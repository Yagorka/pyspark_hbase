{
 "cells": [
  {
   "cell_type": "markdown",
   "metadata": {},
   "source": [
    "## Start dataset"
   ]
  },
  {
   "cell_type": "code",
   "execution_count": null,
   "metadata": {},
   "outputs": [],
   "source": [
    "import pandas as pd"
   ]
  },
  {
   "cell_type": "code",
   "execution_count": null,
   "metadata": {},
   "outputs": [
    {
     "data": {
      "text/plain": [
       "['Unnamed: 0',\n",
       " 'fat_100g',\n",
       " 'carbohydrates_100g',\n",
       " 'sugars_100g',\n",
       " 'proteins_100g',\n",
       " 'salt_100g',\n",
       " 'energy_100g',\n",
       " 'reconstructed_energy',\n",
       " 'g_sum',\n",
       " 'exceeded',\n",
       " 'product']"
      ]
     },
     "metadata": {},
     "output_type": "display_data"
    }
   ],
   "source": [
    "d = pd.read_csv(\"/home/yagor/Рабочий стол/mipt/lab3/notebook/nutrition_table.csv\")\n",
    "d_col = list(d.columns)\n",
    "d_col"
   ]
  },
  {
   "cell_type": "code",
   "execution_count": null,
   "metadata": {},
   "outputs": [
    {
     "data": {
      "text/html": [
       "<div>\n",
       "<style scoped>\n",
       "    .dataframe tbody tr th:only-of-type {\n",
       "        vertical-align: middle;\n",
       "    }\n",
       "\n",
       "    .dataframe tbody tr th {\n",
       "        vertical-align: top;\n",
       "    }\n",
       "\n",
       "    .dataframe thead th {\n",
       "        text-align: right;\n",
       "    }\n",
       "</style>\n",
       "<table border=\"1\" class=\"dataframe\">\n",
       "  <thead>\n",
       "    <tr style=\"text-align: right;\">\n",
       "      <th></th>\n",
       "      <th>Unnamed: 0</th>\n",
       "      <th>fat_100g</th>\n",
       "      <th>carbohydrates_100g</th>\n",
       "      <th>sugars_100g</th>\n",
       "      <th>proteins_100g</th>\n",
       "      <th>salt_100g</th>\n",
       "      <th>energy_100g</th>\n",
       "      <th>reconstructed_energy</th>\n",
       "      <th>g_sum</th>\n",
       "      <th>exceeded</th>\n",
       "      <th>product</th>\n",
       "    </tr>\n",
       "  </thead>\n",
       "  <tbody>\n",
       "    <tr>\n",
       "      <th>0</th>\n",
       "      <td>1</td>\n",
       "      <td>28.57</td>\n",
       "      <td>64.29</td>\n",
       "      <td>14.29</td>\n",
       "      <td>3.57</td>\n",
       "      <td>0.00000</td>\n",
       "      <td>2243.0</td>\n",
       "      <td>2267.85</td>\n",
       "      <td>96.43</td>\n",
       "      <td>0</td>\n",
       "      <td>Banana Chips Sweetened (Whole)</td>\n",
       "    </tr>\n",
       "    <tr>\n",
       "      <th>1</th>\n",
       "      <td>2</td>\n",
       "      <td>17.86</td>\n",
       "      <td>60.71</td>\n",
       "      <td>17.86</td>\n",
       "      <td>17.86</td>\n",
       "      <td>0.63500</td>\n",
       "      <td>1941.0</td>\n",
       "      <td>2032.23</td>\n",
       "      <td>96.43</td>\n",
       "      <td>0</td>\n",
       "      <td>Peanuts</td>\n",
       "    </tr>\n",
       "    <tr>\n",
       "      <th>2</th>\n",
       "      <td>3</td>\n",
       "      <td>57.14</td>\n",
       "      <td>17.86</td>\n",
       "      <td>3.57</td>\n",
       "      <td>17.86</td>\n",
       "      <td>1.22428</td>\n",
       "      <td>2540.0</td>\n",
       "      <td>2835.70</td>\n",
       "      <td>92.86</td>\n",
       "      <td>0</td>\n",
       "      <td>Organic Salted Nut Mix</td>\n",
       "    </tr>\n",
       "    <tr>\n",
       "      <th>3</th>\n",
       "      <td>7</td>\n",
       "      <td>18.75</td>\n",
       "      <td>57.81</td>\n",
       "      <td>15.62</td>\n",
       "      <td>14.06</td>\n",
       "      <td>0.13970</td>\n",
       "      <td>1833.0</td>\n",
       "      <td>1953.04</td>\n",
       "      <td>90.62</td>\n",
       "      <td>0</td>\n",
       "      <td>Organic Muesli</td>\n",
       "    </tr>\n",
       "    <tr>\n",
       "      <th>4</th>\n",
       "      <td>12</td>\n",
       "      <td>36.67</td>\n",
       "      <td>36.67</td>\n",
       "      <td>3.33</td>\n",
       "      <td>16.67</td>\n",
       "      <td>1.60782</td>\n",
       "      <td>2230.0</td>\n",
       "      <td>2336.91</td>\n",
       "      <td>90.01</td>\n",
       "      <td>0</td>\n",
       "      <td>Zen Party Mix</td>\n",
       "    </tr>\n",
       "    <tr>\n",
       "      <th>...</th>\n",
       "      <td>...</td>\n",
       "      <td>...</td>\n",
       "      <td>...</td>\n",
       "      <td>...</td>\n",
       "      <td>...</td>\n",
       "      <td>...</td>\n",
       "      <td>...</td>\n",
       "      <td>...</td>\n",
       "      <td>...</td>\n",
       "      <td>...</td>\n",
       "      <td>...</td>\n",
       "    </tr>\n",
       "    <tr>\n",
       "      <th>45023</th>\n",
       "      <td>49995</td>\n",
       "      <td>0.00</td>\n",
       "      <td>17.92</td>\n",
       "      <td>7.08</td>\n",
       "      <td>0.42</td>\n",
       "      <td>0.03810</td>\n",
       "      <td>297.0</td>\n",
       "      <td>311.78</td>\n",
       "      <td>18.34</td>\n",
       "      <td>0</td>\n",
       "      <td>100% Juice, Prune Juice</td>\n",
       "    </tr>\n",
       "    <tr>\n",
       "      <th>45024</th>\n",
       "      <td>49996</td>\n",
       "      <td>0.00</td>\n",
       "      <td>14.58</td>\n",
       "      <td>14.58</td>\n",
       "      <td>0.00</td>\n",
       "      <td>0.03810</td>\n",
       "      <td>243.0</td>\n",
       "      <td>247.86</td>\n",
       "      <td>14.58</td>\n",
       "      <td>0</td>\n",
       "      <td>100% Juice Blend</td>\n",
       "    </tr>\n",
       "    <tr>\n",
       "      <th>45025</th>\n",
       "      <td>49997</td>\n",
       "      <td>0.00</td>\n",
       "      <td>13.33</td>\n",
       "      <td>13.33</td>\n",
       "      <td>0.00</td>\n",
       "      <td>0.03810</td>\n",
       "      <td>226.0</td>\n",
       "      <td>226.61</td>\n",
       "      <td>13.33</td>\n",
       "      <td>0</td>\n",
       "      <td>Cranberry Apple Flavored Juice Blended With On...</td>\n",
       "    </tr>\n",
       "    <tr>\n",
       "      <th>45026</th>\n",
       "      <td>49998</td>\n",
       "      <td>0.00</td>\n",
       "      <td>16.25</td>\n",
       "      <td>16.25</td>\n",
       "      <td>0.00</td>\n",
       "      <td>0.03810</td>\n",
       "      <td>259.0</td>\n",
       "      <td>276.25</td>\n",
       "      <td>16.25</td>\n",
       "      <td>0</td>\n",
       "      <td>Cranberry Grape, 100% Juice Blend</td>\n",
       "    </tr>\n",
       "    <tr>\n",
       "      <th>45027</th>\n",
       "      <td>49999</td>\n",
       "      <td>0.00</td>\n",
       "      <td>0.00</td>\n",
       "      <td>0.00</td>\n",
       "      <td>0.00</td>\n",
       "      <td>0.00000</td>\n",
       "      <td>0.0</td>\n",
       "      <td>0.00</td>\n",
       "      <td>0.00</td>\n",
       "      <td>0</td>\n",
       "      <td>100% Juice Reconstituted Lemon Juice With Adde...</td>\n",
       "    </tr>\n",
       "  </tbody>\n",
       "</table>\n",
       "<p>45028 rows × 11 columns</p>\n",
       "</div>"
      ],
      "text/plain": [
       "       Unnamed: 0  fat_100g  carbohydrates_100g  sugars_100g  proteins_100g  \\\n",
       "0               1     28.57               64.29        14.29           3.57   \n",
       "1               2     17.86               60.71        17.86          17.86   \n",
       "2               3     57.14               17.86         3.57          17.86   \n",
       "3               7     18.75               57.81        15.62          14.06   \n",
       "4              12     36.67               36.67         3.33          16.67   \n",
       "...           ...       ...                 ...          ...            ...   \n",
       "45023       49995      0.00               17.92         7.08           0.42   \n",
       "45024       49996      0.00               14.58        14.58           0.00   \n",
       "45025       49997      0.00               13.33        13.33           0.00   \n",
       "45026       49998      0.00               16.25        16.25           0.00   \n",
       "45027       49999      0.00                0.00         0.00           0.00   \n",
       "\n",
       "       salt_100g  energy_100g  reconstructed_energy  g_sum  exceeded  \\\n",
       "0        0.00000       2243.0               2267.85  96.43         0   \n",
       "1        0.63500       1941.0               2032.23  96.43         0   \n",
       "2        1.22428       2540.0               2835.70  92.86         0   \n",
       "3        0.13970       1833.0               1953.04  90.62         0   \n",
       "4        1.60782       2230.0               2336.91  90.01         0   \n",
       "...          ...          ...                   ...    ...       ...   \n",
       "45023    0.03810        297.0                311.78  18.34         0   \n",
       "45024    0.03810        243.0                247.86  14.58         0   \n",
       "45025    0.03810        226.0                226.61  13.33         0   \n",
       "45026    0.03810        259.0                276.25  16.25         0   \n",
       "45027    0.00000          0.0                  0.00   0.00         0   \n",
       "\n",
       "                                                 product  \n",
       "0                         Banana Chips Sweetened (Whole)  \n",
       "1                                                Peanuts  \n",
       "2                                 Organic Salted Nut Mix  \n",
       "3                                         Organic Muesli  \n",
       "4                                          Zen Party Mix  \n",
       "...                                                  ...  \n",
       "45023                            100% Juice, Prune Juice  \n",
       "45024                                   100% Juice Blend  \n",
       "45025  Cranberry Apple Flavored Juice Blended With On...  \n",
       "45026                  Cranberry Grape, 100% Juice Blend  \n",
       "45027  100% Juice Reconstituted Lemon Juice With Adde...  \n",
       "\n",
       "[45028 rows x 11 columns]"
      ]
     },
     "metadata": {},
     "output_type": "display_data"
    }
   ],
   "source": [
    "d"
   ]
  },
  {
   "cell_type": "markdown",
   "metadata": {},
   "source": [
    "## Load data from HBase"
   ]
  },
  {
   "cell_type": "code",
   "execution_count": 292,
   "metadata": {},
   "outputs": [],
   "source": [
    "import happybase\n",
    "\n",
    "connection = happybase.Connection('hbase-docker', 9090)\n",
    "table = connection.table('nutrition')"
   ]
  },
  {
   "cell_type": "code",
   "execution_count": 293,
   "metadata": {},
   "outputs": [],
   "source": [
    "all_data = {}\n",
    "for key, data in table.scan():\n",
    "    all_data[key] = data "
   ]
  },
  {
   "cell_type": "code",
   "execution_count": 294,
   "metadata": {},
   "outputs": [
    {
     "data": {
      "text/plain": [
       "{b'nutrition_data:carbohydrates_100g': b'64.29',\n",
       " b'nutrition_data:energy_100g': b'2243.0',\n",
       " b'nutrition_data:exceeded': b'0',\n",
       " b'nutrition_data:fat_100g': b'28.57',\n",
       " b'nutrition_data:g_sum': b'96.43',\n",
       " b'nutrition_data:product': b'Banana Chips Sweetened (Whole)',\n",
       " b'nutrition_data:proteins_100g': b'3.57',\n",
       " b'nutrition_data:reconstructed_energy': b'2267.85',\n",
       " b'nutrition_data:salt_100g': b'0.0',\n",
       " b'nutrition_data:sugars_100g': b'14.29'}"
      ]
     },
     "execution_count": 294,
     "metadata": {},
     "output_type": "execute_result"
    }
   ],
   "source": [
    "all_data[b'1']"
   ]
  },
  {
   "cell_type": "code",
   "execution_count": 295,
   "metadata": {},
   "outputs": [
    {
     "data": {
      "text/plain": [
       "dict_keys([b'nutrition_data:carbohydrates_100g', b'nutrition_data:energy_100g', b'nutrition_data:exceeded', b'nutrition_data:fat_100g', b'nutrition_data:g_sum', b'nutrition_data:product', b'nutrition_data:proteins_100g', b'nutrition_data:reconstructed_energy', b'nutrition_data:salt_100g', b'nutrition_data:sugars_100g'])"
      ]
     },
     "execution_count": 295,
     "metadata": {},
     "output_type": "execute_result"
    }
   ],
   "source": [
    "all_data[b'1'].keys()"
   ]
  },
  {
   "cell_type": "code",
   "execution_count": 296,
   "metadata": {},
   "outputs": [],
   "source": [
    "decode_all_data = []\n",
    "funcs = {'nutrition_data:exceeded': int, 'nutrition_data:product': str}\n",
    "for key in all_data.keys():\n",
    "    decode_row_data = {}\n",
    "    for second_key, val in all_data[key].items():\n",
    "        k = second_key.decode(\"utf-8\")\n",
    "        v = val.decode(\"utf-8\")\n",
    "        if k in funcs:\n",
    "            v = funcs[k](v)\n",
    "        else:\n",
    "            v = float(v)\n",
    "        decode_row_data[k.split(':')[-1]] = v\n",
    "    decode_all_data.append(decode_row_data)\n",
    "\n"
   ]
  },
  {
   "cell_type": "code",
   "execution_count": 297,
   "metadata": {},
   "outputs": [
    {
     "data": {
      "text/plain": [
       "{'carbohydrates_100g': 64.29,\n",
       " 'energy_100g': 2243.0,\n",
       " 'exceeded': 0,\n",
       " 'fat_100g': 28.57,\n",
       " 'g_sum': 96.43,\n",
       " 'product': 'Banana Chips Sweetened (Whole)',\n",
       " 'proteins_100g': 3.57,\n",
       " 'reconstructed_energy': 2267.85,\n",
       " 'salt_100g': 0.0,\n",
       " 'sugars_100g': 14.29}"
      ]
     },
     "execution_count": 297,
     "metadata": {},
     "output_type": "execute_result"
    }
   ],
   "source": [
    "decode_all_data[0]"
   ]
  },
  {
   "cell_type": "code",
   "execution_count": 298,
   "metadata": {},
   "outputs": [],
   "source": [
    "import csv\n",
    "import pandas as pd\n",
    "\n",
    "keys = decode_all_data[0].keys()\n",
    "\n",
    "with open('data_from_hbase.csv', 'w', newline='') as output_file:\n",
    "    dict_writer = csv.DictWriter(output_file, keys)\n",
    "    dict_writer.writeheader()\n",
    "    dict_writer.writerows(decode_all_data)"
   ]
  },
  {
   "cell_type": "code",
   "execution_count": 299,
   "metadata": {},
   "outputs": [
    {
     "data": {
      "text/html": [
       "<div>\n",
       "<style scoped>\n",
       "    .dataframe tbody tr th:only-of-type {\n",
       "        vertical-align: middle;\n",
       "    }\n",
       "\n",
       "    .dataframe tbody tr th {\n",
       "        vertical-align: top;\n",
       "    }\n",
       "\n",
       "    .dataframe thead th {\n",
       "        text-align: right;\n",
       "    }\n",
       "</style>\n",
       "<table border=\"1\" class=\"dataframe\">\n",
       "  <thead>\n",
       "    <tr style=\"text-align: right;\">\n",
       "      <th></th>\n",
       "      <th>carbohydrates_100g</th>\n",
       "      <th>energy_100g</th>\n",
       "      <th>exceeded</th>\n",
       "      <th>fat_100g</th>\n",
       "      <th>g_sum</th>\n",
       "      <th>product</th>\n",
       "      <th>proteins_100g</th>\n",
       "      <th>reconstructed_energy</th>\n",
       "      <th>salt_100g</th>\n",
       "      <th>sugars_100g</th>\n",
       "    </tr>\n",
       "  </thead>\n",
       "  <tbody>\n",
       "    <tr>\n",
       "      <th>0</th>\n",
       "      <td>64.29</td>\n",
       "      <td>2243.0</td>\n",
       "      <td>0</td>\n",
       "      <td>28.57</td>\n",
       "      <td>96.43</td>\n",
       "      <td>Banana Chips Sweetened (Whole)</td>\n",
       "      <td>3.57</td>\n",
       "      <td>2267.85</td>\n",
       "      <td>0.00000</td>\n",
       "      <td>14.29</td>\n",
       "    </tr>\n",
       "    <tr>\n",
       "      <th>1</th>\n",
       "      <td>80.00</td>\n",
       "      <td>1255.0</td>\n",
       "      <td>0</td>\n",
       "      <td>0.00</td>\n",
       "      <td>82.50</td>\n",
       "      <td>California Seedless Raisins</td>\n",
       "      <td>2.50</td>\n",
       "      <td>1402.50</td>\n",
       "      <td>0.00000</td>\n",
       "      <td>60.00</td>\n",
       "    </tr>\n",
       "    <tr>\n",
       "      <th>2</th>\n",
       "      <td>73.33</td>\n",
       "      <td>1536.0</td>\n",
       "      <td>0</td>\n",
       "      <td>8.33</td>\n",
       "      <td>84.99</td>\n",
       "      <td>Tropical Fruit Mix</td>\n",
       "      <td>3.33</td>\n",
       "      <td>1628.09</td>\n",
       "      <td>0.12700</td>\n",
       "      <td>56.67</td>\n",
       "    </tr>\n",
       "    <tr>\n",
       "      <th>3</th>\n",
       "      <td>0.00</td>\n",
       "      <td>33.0</td>\n",
       "      <td>0</td>\n",
       "      <td>0.41</td>\n",
       "      <td>1.63</td>\n",
       "      <td>Beef Broth</td>\n",
       "      <td>1.22</td>\n",
       "      <td>36.73</td>\n",
       "      <td>0.88138</td>\n",
       "      <td>0.00</td>\n",
       "    </tr>\n",
       "    <tr>\n",
       "      <th>4</th>\n",
       "      <td>21.43</td>\n",
       "      <td>1197.0</td>\n",
       "      <td>0</td>\n",
       "      <td>3.57</td>\n",
       "      <td>67.86</td>\n",
       "      <td>Beef Jerky</td>\n",
       "      <td>42.86</td>\n",
       "      <td>1232.16</td>\n",
       "      <td>4.35356</td>\n",
       "      <td>17.86</td>\n",
       "    </tr>\n",
       "  </tbody>\n",
       "</table>\n",
       "</div>"
      ],
      "text/plain": [
       "   carbohydrates_100g  energy_100g  exceeded  fat_100g  g_sum  \\\n",
       "0               64.29       2243.0         0     28.57  96.43   \n",
       "1               80.00       1255.0         0      0.00  82.50   \n",
       "2               73.33       1536.0         0      8.33  84.99   \n",
       "3                0.00         33.0         0      0.41   1.63   \n",
       "4               21.43       1197.0         0      3.57  67.86   \n",
       "\n",
       "                          product  proteins_100g  reconstructed_energy  \\\n",
       "0  Banana Chips Sweetened (Whole)           3.57               2267.85   \n",
       "1     California Seedless Raisins           2.50               1402.50   \n",
       "2              Tropical Fruit Mix           3.33               1628.09   \n",
       "3                      Beef Broth           1.22                 36.73   \n",
       "4                      Beef Jerky          42.86               1232.16   \n",
       "\n",
       "   salt_100g  sugars_100g  \n",
       "0    0.00000        14.29  \n",
       "1    0.00000        60.00  \n",
       "2    0.12700        56.67  \n",
       "3    0.88138         0.00  \n",
       "4    4.35356        17.86  "
      ]
     },
     "execution_count": 299,
     "metadata": {},
     "output_type": "execute_result"
    }
   ],
   "source": [
    "data_from_db = pd.read_csv('/home/yagor/Рабочий стол/mipt/lab3/notebook/data_from_hbase.csv')\n",
    "data_from_db.head()"
   ]
  },
  {
   "cell_type": "code",
   "execution_count": 300,
   "metadata": {},
   "outputs": [],
   "source": [
    "data_from_db.to_csv('data_from_hbase_with_postprocess.csv')"
   ]
  },
  {
   "cell_type": "code",
   "execution_count": 301,
   "metadata": {},
   "outputs": [
    {
     "data": {
      "text/html": [
       "<div>\n",
       "<style scoped>\n",
       "    .dataframe tbody tr th:only-of-type {\n",
       "        vertical-align: middle;\n",
       "    }\n",
       "\n",
       "    .dataframe tbody tr th {\n",
       "        vertical-align: top;\n",
       "    }\n",
       "\n",
       "    .dataframe thead th {\n",
       "        text-align: right;\n",
       "    }\n",
       "</style>\n",
       "<table border=\"1\" class=\"dataframe\">\n",
       "  <thead>\n",
       "    <tr style=\"text-align: right;\">\n",
       "      <th></th>\n",
       "      <th>Unnamed: 0</th>\n",
       "      <th>carbohydrates_100g</th>\n",
       "      <th>energy_100g</th>\n",
       "      <th>exceeded</th>\n",
       "      <th>fat_100g</th>\n",
       "      <th>g_sum</th>\n",
       "      <th>product</th>\n",
       "      <th>proteins_100g</th>\n",
       "      <th>reconstructed_energy</th>\n",
       "      <th>salt_100g</th>\n",
       "      <th>sugars_100g</th>\n",
       "    </tr>\n",
       "  </thead>\n",
       "  <tbody>\n",
       "    <tr>\n",
       "      <th>0</th>\n",
       "      <td>0</td>\n",
       "      <td>64.29</td>\n",
       "      <td>2243.0</td>\n",
       "      <td>0</td>\n",
       "      <td>28.57</td>\n",
       "      <td>96.43</td>\n",
       "      <td>Banana Chips Sweetened (Whole)</td>\n",
       "      <td>3.57</td>\n",
       "      <td>2267.85</td>\n",
       "      <td>0.00000</td>\n",
       "      <td>14.29</td>\n",
       "    </tr>\n",
       "    <tr>\n",
       "      <th>1</th>\n",
       "      <td>1</td>\n",
       "      <td>80.00</td>\n",
       "      <td>1255.0</td>\n",
       "      <td>0</td>\n",
       "      <td>0.00</td>\n",
       "      <td>82.50</td>\n",
       "      <td>California Seedless Raisins</td>\n",
       "      <td>2.50</td>\n",
       "      <td>1402.50</td>\n",
       "      <td>0.00000</td>\n",
       "      <td>60.00</td>\n",
       "    </tr>\n",
       "    <tr>\n",
       "      <th>2</th>\n",
       "      <td>2</td>\n",
       "      <td>73.33</td>\n",
       "      <td>1536.0</td>\n",
       "      <td>0</td>\n",
       "      <td>8.33</td>\n",
       "      <td>84.99</td>\n",
       "      <td>Tropical Fruit Mix</td>\n",
       "      <td>3.33</td>\n",
       "      <td>1628.09</td>\n",
       "      <td>0.12700</td>\n",
       "      <td>56.67</td>\n",
       "    </tr>\n",
       "    <tr>\n",
       "      <th>3</th>\n",
       "      <td>3</td>\n",
       "      <td>0.00</td>\n",
       "      <td>33.0</td>\n",
       "      <td>0</td>\n",
       "      <td>0.41</td>\n",
       "      <td>1.63</td>\n",
       "      <td>Beef Broth</td>\n",
       "      <td>1.22</td>\n",
       "      <td>36.73</td>\n",
       "      <td>0.88138</td>\n",
       "      <td>0.00</td>\n",
       "    </tr>\n",
       "    <tr>\n",
       "      <th>4</th>\n",
       "      <td>4</td>\n",
       "      <td>21.43</td>\n",
       "      <td>1197.0</td>\n",
       "      <td>0</td>\n",
       "      <td>3.57</td>\n",
       "      <td>67.86</td>\n",
       "      <td>Beef Jerky</td>\n",
       "      <td>42.86</td>\n",
       "      <td>1232.16</td>\n",
       "      <td>4.35356</td>\n",
       "      <td>17.86</td>\n",
       "    </tr>\n",
       "  </tbody>\n",
       "</table>\n",
       "</div>"
      ],
      "text/plain": [
       "   Unnamed: 0  carbohydrates_100g  energy_100g  exceeded  fat_100g  g_sum  \\\n",
       "0           0               64.29       2243.0         0     28.57  96.43   \n",
       "1           1               80.00       1255.0         0      0.00  82.50   \n",
       "2           2               73.33       1536.0         0      8.33  84.99   \n",
       "3           3                0.00         33.0         0      0.41   1.63   \n",
       "4           4               21.43       1197.0         0      3.57  67.86   \n",
       "\n",
       "                          product  proteins_100g  reconstructed_energy  \\\n",
       "0  Banana Chips Sweetened (Whole)           3.57               2267.85   \n",
       "1     California Seedless Raisins           2.50               1402.50   \n",
       "2              Tropical Fruit Mix           3.33               1628.09   \n",
       "3                      Beef Broth           1.22                 36.73   \n",
       "4                      Beef Jerky          42.86               1232.16   \n",
       "\n",
       "   salt_100g  sugars_100g  \n",
       "0    0.00000        14.29  \n",
       "1    0.00000        60.00  \n",
       "2    0.12700        56.67  \n",
       "3    0.88138         0.00  \n",
       "4    4.35356        17.86  "
      ]
     },
     "execution_count": 301,
     "metadata": {},
     "output_type": "execute_result"
    }
   ],
   "source": [
    "data_from_db_new = pd.read_csv('/home/yagor/Рабочий стол/mipt/lab3/notebook/data_from_hbase_with_postprocess.csv')\n",
    "data_from_db_new.head()"
   ]
  },
  {
   "cell_type": "markdown",
   "metadata": {},
   "source": [
    "## Pyspark clastering"
   ]
  },
  {
   "cell_type": "code",
   "execution_count": 90,
   "metadata": {},
   "outputs": [],
   "source": [
    "MASTER = \"local\"\n",
    "NUM_PROCESSORS = \"8\"\n",
    "NUM_EXECUTORS = \"4\"\n",
    "NUM_PARTITIONS = 10\n",
    "\n",
    "from pyspark import SparkContext, SparkConf\n",
    "from pyspark.sql import SparkSession\n",
    "from pyspark.sql.types import StructType, StructField\n",
    "from pyspark.sql.types import DoubleType, IntegerType, StringType\n",
    "from pyspark.ml import Pipeline\n",
    "from pyspark.sql import SQLContext\n",
    "from pyspark.ml.feature import HashingTF, IDF, Tokenizer\n",
    "import pyspark.sql.functions as psf\n",
    "import json"
   ]
  },
  {
   "cell_type": "code",
   "execution_count": 91,
   "metadata": {},
   "outputs": [
    {
     "data": {
      "text/plain": [
       "<pyspark.conf.SparkConf at 0x7f76fb3cf580>"
      ]
     },
     "execution_count": 91,
     "metadata": {},
     "output_type": "execute_result"
    }
   ],
   "source": [
    "conf = SparkConf()\n",
    "\n",
    "conf.set(\"spark.app.name\", \"one_part_data\")\n",
    "conf.set(\"spark.master\", MASTER)\n",
    "conf.set(\"spark.executor.cores\", NUM_PROCESSORS)\n",
    "conf.set(\"spark.executor.instances\", NUM_EXECUTORS)\n",
    "conf.set(\"spark.executor.memory\", \"6g\")\n",
    "conf.set(\"spark.locality.wait\", \"0\")\n",
    "conf.set(\"spark.serializer\", \"org.apache.spark.serializer.KryoSerializer\")\n",
    "conf.set(\"spark.kryoserializer.buffer.max\", \"2000\")\n",
    "conf.set(\"spark.executor.heartbeatInterval\", \"6000s\")\n",
    "conf.set(\"spark.network.timeout\", \"10000000s\")\n",
    "conf.set(\"spark.shuffle.spill\", \"true\")\n",
    "conf.set(\"spark.driver.memory\", \"15g\")\n",
    "conf.set(\"spark.driver.maxResultSize\", \"15g\")"
   ]
  },
  {
   "cell_type": "code",
   "execution_count": 92,
   "metadata": {},
   "outputs": [
    {
     "data": {
      "text/html": [
       "\n",
       "            <div>\n",
       "                <p><b>SparkSession - in-memory</b></p>\n",
       "                \n",
       "        <div>\n",
       "            <p><b>SparkContext</b></p>\n",
       "\n",
       "            <p><a href=\"http://192.168.0.107:4040\">Spark UI</a></p>\n",
       "\n",
       "            <dl>\n",
       "              <dt>Version</dt>\n",
       "                <dd><code>v3.3.1</code></dd>\n",
       "              <dt>Master</dt>\n",
       "                <dd><code>local[*]</code></dd>\n",
       "              <dt>AppName</dt>\n",
       "                <dd><code>SparkByExamples.com</code></dd>\n",
       "            </dl>\n",
       "        </div>\n",
       "        \n",
       "            </div>\n",
       "        "
      ],
      "text/plain": [
       "<pyspark.sql.session.SparkSession at 0x7f76fb3ccbe0>"
      ]
     },
     "execution_count": 92,
     "metadata": {},
     "output_type": "execute_result"
    }
   ],
   "source": [
    "from pyspark.sql import SparkSession\n",
    "\n",
    "# Create SparkSession \n",
    "spark = SparkSession.builder \\\n",
    "      .config(conf=conf) \\\n",
    "      .master(\"local[*]\") \\\n",
    "      .appName(\"SparkByExamples.com\") \\\n",
    "      .getOrCreate()\n",
    "spark"
   ]
  },
  {
   "cell_type": "code",
   "execution_count": 93,
   "metadata": {},
   "outputs": [],
   "source": [
    "dataset = spark.read.csv(\"/home/yagor/Рабочий стол/mipt/lab3/notebook/data_from_hbase_with_postprocess.csv\",header=True,inferSchema=True)"
   ]
  },
  {
   "cell_type": "code",
   "execution_count": 94,
   "metadata": {},
   "outputs": [
    {
     "name": "stdout",
     "output_type": "stream",
     "text": [
      "22/12/29 23:35:11 WARN CSVHeaderChecker: CSV header does not conform to the schema.\n",
      " Header: , carbohydrates_100g, energy_100g, exceeded, fat_100g, g_sum, product, proteins_100g, reconstructed_energy, salt_100g, sugars_100g\n",
      " Schema: _c0, carbohydrates_100g, energy_100g, exceeded, fat_100g, g_sum, product, proteins_100g, reconstructed_energy, salt_100g, sugars_100g\n",
      "Expected: _c0 but found: \n",
      "CSV file: file:///home/yagor/Рабочий%20стол/mipt/lab3/notebook/data_from_hbase_with_postprocess.csv\n",
      "+---+------------------+-----------+--------+--------+-----+--------------------+-------------+--------------------+---------+-----------+\n",
      "|_c0|carbohydrates_100g|energy_100g|exceeded|fat_100g|g_sum|             product|proteins_100g|reconstructed_energy|salt_100g|sugars_100g|\n",
      "+---+------------------+-----------+--------+--------+-----+--------------------+-------------+--------------------+---------+-----------+\n",
      "|  0|             64.29|     2243.0|       0|   28.57|96.43|Banana Chips Swee...|         3.57|             2267.85|      0.0|      14.29|\n",
      "|  1|              80.0|     1255.0|       0|     0.0| 82.5|California Seedle...|          2.5|              1402.5|      0.0|       60.0|\n",
      "|  2|             73.33|     1536.0|       0|    8.33|84.99|  Tropical Fruit Mix|         3.33|             1628.09|    0.127|      56.67|\n",
      "|  3|               0.0|       33.0|       0|    0.41| 1.63|          Beef Broth|         1.22|               36.73|  0.88138|        0.0|\n",
      "|  4|             21.43|     1197.0|       0|    3.57|67.86|          Beef Jerky|        42.86|             1232.16|  4.35356|      17.86|\n",
      "|  5|             63.16|     2201.0|       0|   31.58|97.37|  Peppermint Patties|         2.63|             2350.05|  0.16764|      57.89|\n",
      "|  6|              65.0|     1046.0|       0|     0.0| 67.5|          Dried Figs|          2.5|              1147.5|      0.0|       47.5|\n",
      "|  7|             21.21|      381.0|       0|     0.0|27.27|Quality Tomato Paste|         6.06|              463.59|   0.1143|      12.12|\n",
      "|  8|              62.5|     1046.0|       0|     0.0| 65.0|            Apricots|          2.5|              1105.0|      0.0|       52.5|\n",
      "|  9|              65.0|     1046.0|       0|     0.0| 67.5|       Pitted Prunes|          2.5|              1147.5|      0.0|       37.5|\n",
      "| 10|              3.57|        0.0|       0|     0.0| 3.57| Kosher Dill Sprears|          0.0|               60.69|    1.905|        0.0|\n",
      "| 11|             86.05|     1460.0|       0|     0.0|86.05|  Orange Slice Candy|          0.0|             1462.85|      0.0|      55.81|\n",
      "| 12|             86.84|     1431.0|       0|     0.0|86.84|   Chewy Spice Drops|          0.0|             1476.28|      0.0|      57.89|\n",
      "| 13|             82.93|     1326.0|       0|     0.0|82.93|    Spearmint Leaves|          0.0|  1409.8100000000002|  0.06096|       56.1|\n",
      "| 14|             93.33|     1393.0|       0|     0.0|93.33|         Mint Twists|          0.0|             1586.61|      0.0|      73.33|\n",
      "| 15|              80.0|     1674.0|       0|     7.5| 90.0|Vanilla Caramels ...|          2.5|              1695.0|  0.60452|       60.0|\n",
      "| 16|             90.24|     1531.0|       0|     0.0|90.24|         Jelly Beans|          0.0|             1534.08|      0.0|      80.49|\n",
      "| 17|             74.29|     1494.0|       0|    1.43|87.15|Macaroni & Cheese...|        11.43|             1513.01|  2.10566|       8.57|\n",
      "| 18|              57.5|     2301.0|       0|    35.0|100.0|        Banana Chips|          7.5|              2470.0|    0.254|       30.0|\n",
      "| 19|              3.57|        0.0|       0|     0.0| 3.57|  Kosher Dill Spears|          0.0|               60.69|    1.905|        0.0|\n",
      "+---+------------------+-----------+--------+--------+-----+--------------------+-------------+--------------------+---------+-----------+\n",
      "only showing top 20 rows\n",
      "\n"
     ]
    }
   ],
   "source": [
    "dataset.show()"
   ]
  },
  {
   "cell_type": "code",
   "execution_count": 95,
   "metadata": {},
   "outputs": [
    {
     "name": "stdout",
     "output_type": "stream",
     "text": [
      "root\n",
      " |-- _c0: integer (nullable = true)\n",
      " |-- carbohydrates_100g: double (nullable = true)\n",
      " |-- energy_100g: double (nullable = true)\n",
      " |-- exceeded: integer (nullable = true)\n",
      " |-- fat_100g: double (nullable = true)\n",
      " |-- g_sum: double (nullable = true)\n",
      " |-- product: string (nullable = true)\n",
      " |-- proteins_100g: double (nullable = true)\n",
      " |-- reconstructed_energy: double (nullable = true)\n",
      " |-- salt_100g: double (nullable = true)\n",
      " |-- sugars_100g: double (nullable = true)\n",
      "\n"
     ]
    }
   ],
   "source": [
    "dataset.printSchema()"
   ]
  },
  {
   "cell_type": "code",
   "execution_count": 96,
   "metadata": {},
   "outputs": [
    {
     "data": {
      "text/plain": [
       "['_c0',\n",
       " 'carbohydrates_100g',\n",
       " 'energy_100g',\n",
       " 'exceeded',\n",
       " 'fat_100g',\n",
       " 'g_sum',\n",
       " 'product',\n",
       " 'proteins_100g',\n",
       " 'reconstructed_energy',\n",
       " 'salt_100g',\n",
       " 'sugars_100g']"
      ]
     },
     "execution_count": 96,
     "metadata": {},
     "output_type": "execute_result"
    }
   ],
   "source": [
    "dataset.columns"
   ]
  },
  {
   "cell_type": "code",
   "execution_count": 97,
   "metadata": {},
   "outputs": [],
   "source": [
    "from pyspark.ml.linalg import Vectors\n",
    "from pyspark.ml.feature import VectorAssembler"
   ]
  },
  {
   "cell_type": "code",
   "execution_count": 98,
   "metadata": {},
   "outputs": [],
   "source": [
    "feat_cols = [ #'_c0',\n",
    " 'fat_100g',\n",
    " 'carbohydrates_100g',\n",
    " 'sugars_100g',\n",
    " 'proteins_100g',\n",
    " 'salt_100g',\n",
    " 'energy_100g',\n",
    " 'reconstructed_energy',\n",
    " 'g_sum',\n",
    " 'exceeded',\n",
    " #'product'\n",
    " ]"
   ]
  },
  {
   "cell_type": "code",
   "execution_count": 99,
   "metadata": {},
   "outputs": [],
   "source": [
    "vec_assembler = VectorAssembler(inputCols = feat_cols, outputCol='features')"
   ]
  },
  {
   "cell_type": "code",
   "execution_count": 100,
   "metadata": {},
   "outputs": [],
   "source": [
    "final_data = vec_assembler.transform(dataset)"
   ]
  },
  {
   "cell_type": "code",
   "execution_count": 101,
   "metadata": {},
   "outputs": [
    {
     "name": "stdout",
     "output_type": "stream",
     "text": [
      "22/12/29 23:35:24 WARN CSVHeaderChecker: CSV header does not conform to the schema.\n",
      " Header: , carbohydrates_100g, energy_100g, exceeded, fat_100g, g_sum, product, proteins_100g, reconstructed_energy, salt_100g, sugars_100g\n",
      " Schema: _c0, carbohydrates_100g, energy_100g, exceeded, fat_100g, g_sum, product, proteins_100g, reconstructed_energy, salt_100g, sugars_100g\n",
      "Expected: _c0 but found: \n",
      "CSV file: file:///home/yagor/Рабочий%20стол/mipt/lab3/notebook/data_from_hbase_with_postprocess.csv\n",
      "+---+------------------+-----------+--------+--------+-----+--------------------+-------------+--------------------+---------+-----------+--------------------+\n",
      "|_c0|carbohydrates_100g|energy_100g|exceeded|fat_100g|g_sum|             product|proteins_100g|reconstructed_energy|salt_100g|sugars_100g|            features|\n",
      "+---+------------------+-----------+--------+--------+-----+--------------------+-------------+--------------------+---------+-----------+--------------------+\n",
      "|  0|             64.29|     2243.0|       0|   28.57|96.43|Banana Chips Swee...|         3.57|             2267.85|      0.0|      14.29|[28.57,64.29,14.2...|\n",
      "|  1|              80.0|     1255.0|       0|     0.0| 82.5|California Seedle...|          2.5|              1402.5|      0.0|       60.0|[0.0,80.0,60.0,2....|\n",
      "|  2|             73.33|     1536.0|       0|    8.33|84.99|  Tropical Fruit Mix|         3.33|             1628.09|    0.127|      56.67|[8.33,73.33,56.67...|\n",
      "|  3|               0.0|       33.0|       0|    0.41| 1.63|          Beef Broth|         1.22|               36.73|  0.88138|        0.0|[0.41,0.0,0.0,1.2...|\n",
      "|  4|             21.43|     1197.0|       0|    3.57|67.86|          Beef Jerky|        42.86|             1232.16|  4.35356|      17.86|[3.57,21.43,17.86...|\n",
      "|  5|             63.16|     2201.0|       0|   31.58|97.37|  Peppermint Patties|         2.63|             2350.05|  0.16764|      57.89|[31.58,63.16,57.8...|\n",
      "|  6|              65.0|     1046.0|       0|     0.0| 67.5|          Dried Figs|          2.5|              1147.5|      0.0|       47.5|[0.0,65.0,47.5,2....|\n",
      "|  7|             21.21|      381.0|       0|     0.0|27.27|Quality Tomato Paste|         6.06|              463.59|   0.1143|      12.12|[0.0,21.21,12.12,...|\n",
      "|  8|              62.5|     1046.0|       0|     0.0| 65.0|            Apricots|          2.5|              1105.0|      0.0|       52.5|[0.0,62.5,52.5,2....|\n",
      "|  9|              65.0|     1046.0|       0|     0.0| 67.5|       Pitted Prunes|          2.5|              1147.5|      0.0|       37.5|[0.0,65.0,37.5,2....|\n",
      "| 10|              3.57|        0.0|       0|     0.0| 3.57| Kosher Dill Sprears|          0.0|               60.69|    1.905|        0.0|(9,[1,4,6,7],[3.5...|\n",
      "| 11|             86.05|     1460.0|       0|     0.0|86.05|  Orange Slice Candy|          0.0|             1462.85|      0.0|      55.81|[0.0,86.05,55.81,...|\n",
      "| 12|             86.84|     1431.0|       0|     0.0|86.84|   Chewy Spice Drops|          0.0|             1476.28|      0.0|      57.89|[0.0,86.84,57.89,...|\n",
      "| 13|             82.93|     1326.0|       0|     0.0|82.93|    Spearmint Leaves|          0.0|  1409.8100000000002|  0.06096|       56.1|[0.0,82.93,56.1,0...|\n",
      "| 14|             93.33|     1393.0|       0|     0.0|93.33|         Mint Twists|          0.0|             1586.61|      0.0|      73.33|[0.0,93.33,73.33,...|\n",
      "| 15|              80.0|     1674.0|       0|     7.5| 90.0|Vanilla Caramels ...|          2.5|              1695.0|  0.60452|       60.0|[7.5,80.0,60.0,2....|\n",
      "| 16|             90.24|     1531.0|       0|     0.0|90.24|         Jelly Beans|          0.0|             1534.08|      0.0|      80.49|[0.0,90.24,80.49,...|\n",
      "| 17|             74.29|     1494.0|       0|    1.43|87.15|Macaroni & Cheese...|        11.43|             1513.01|  2.10566|       8.57|[1.43,74.29,8.57,...|\n",
      "| 18|              57.5|     2301.0|       0|    35.0|100.0|        Banana Chips|          7.5|              2470.0|    0.254|       30.0|[35.0,57.5,30.0,7...|\n",
      "| 19|              3.57|        0.0|       0|     0.0| 3.57|  Kosher Dill Spears|          0.0|               60.69|    1.905|        0.0|(9,[1,4,6,7],[3.5...|\n",
      "+---+------------------+-----------+--------+--------+-----+--------------------+-------------+--------------------+---------+-----------+--------------------+\n",
      "only showing top 20 rows\n",
      "\n"
     ]
    }
   ],
   "source": [
    "final_data.show()"
   ]
  },
  {
   "cell_type": "code",
   "execution_count": 102,
   "metadata": {},
   "outputs": [],
   "source": [
    "from pyspark.ml.feature import StandardScaler"
   ]
  },
  {
   "cell_type": "code",
   "execution_count": 103,
   "metadata": {},
   "outputs": [],
   "source": [
    "scaler = StandardScaler(inputCol=\"features\", outputCol=\"scaledFeatures\", withStd=True, withMean=False)"
   ]
  },
  {
   "cell_type": "code",
   "execution_count": 104,
   "metadata": {},
   "outputs": [
    {
     "data": {
      "text/plain": [
       "DataFrame[_c0: int, carbohydrates_100g: double, energy_100g: double, exceeded: int, fat_100g: double, g_sum: double, product: string, proteins_100g: double, reconstructed_energy: double, salt_100g: double, sugars_100g: double, features: vector]"
      ]
     },
     "execution_count": 104,
     "metadata": {},
     "output_type": "execute_result"
    }
   ],
   "source": [
    "final_data"
   ]
  },
  {
   "cell_type": "code",
   "execution_count": 105,
   "metadata": {},
   "outputs": [],
   "source": [
    "# Compute summary statistics by fitting the StandardScaler\n",
    "scalerModel = scaler.fit(final_data)"
   ]
  },
  {
   "cell_type": "code",
   "execution_count": 106,
   "metadata": {},
   "outputs": [],
   "source": [
    "# Normalize each feature to have unit standard deviation.\n",
    "cluster_final_data = scalerModel.transform(final_data)"
   ]
  },
  {
   "cell_type": "markdown",
   "metadata": {},
   "source": [
    "## train model"
   ]
  },
  {
   "cell_type": "code",
   "execution_count": 107,
   "metadata": {},
   "outputs": [],
   "source": [
    "from pyspark.ml.clustering import KMeans\n",
    "from pyspark.ml.evaluation import ClusteringEvaluator"
   ]
  },
  {
   "cell_type": "code",
   "execution_count": 120,
   "metadata": {},
   "outputs": [
    {
     "name": "stdout",
     "output_type": "stream",
     "text": [
      "With K=2\n",
      "Silhouette with squared euclidean distance = 0.759665199433813\n",
      "------------------------------------------------------------\n",
      "With K=3\n",
      "Silhouette with squared euclidean distance = 0.5478606195285595\n",
      "------------------------------------------------------------\n",
      "With K=4\n",
      "Silhouette with squared euclidean distance = 0.5443140985003554\n",
      "------------------------------------------------------------\n",
      "With K=5\n",
      "Silhouette with squared euclidean distance = 0.522830972258517\n",
      "------------------------------------------------------------\n",
      "With K=6\n",
      "Silhouette with squared euclidean distance = 0.3218162020176603\n",
      "------------------------------------------------------------\n",
      "With K=7\n",
      "Silhouette with squared euclidean distance = 0.2837808134803726\n",
      "------------------------------------------------------------\n",
      "With K=8\n",
      "Silhouette with squared euclidean distance = 0.2719213425157517\n",
      "------------------------------------------------------------\n",
      "With K=9\n",
      "Silhouette with squared euclidean distance = 0.3335976037960814\n",
      "------------------------------------------------------------\n",
      "With K=10\n",
      "Silhouette with squared euclidean distance = 0.27051948321308167\n",
      "------------------------------------------------------------\n",
      "With K=11\n",
      "Silhouette with squared euclidean distance = 0.3336325386684167\n",
      "------------------------------------------------------------\n",
      "With K=12\n",
      "Silhouette with squared euclidean distance = 0.29030188967230625\n",
      "------------------------------------------------------------\n",
      "With K=13\n",
      "Silhouette with squared euclidean distance = 0.16008183500589165\n",
      "------------------------------------------------------------\n",
      "With K=14\n",
      "Silhouette with squared euclidean distance = 0.23224391137684947\n",
      "------------------------------------------------------------\n"
     ]
    }
   ],
   "source": [
    "for k in range(2,15):\n",
    "    kmeans = KMeans(featuresCol='scaledFeatures',k=k)\n",
    "    model = kmeans.fit(cluster_final_data)\n",
    "    predictions = model.transform(cluster_final_data)\n",
    "    evaluator = ClusteringEvaluator()\n",
    "    silhouette = evaluator.evaluate(predictions)\n",
    "    print(\"With K={}\".format(k))\n",
    "    print(\"Silhouette with squared euclidean distance = \" + str(silhouette))\n",
    "    print('--'*30)"
   ]
  },
  {
   "cell_type": "code",
   "execution_count": 383,
   "metadata": {},
   "outputs": [],
   "source": [
    "k = 8\n",
    "kmeans = KMeans(featuresCol='scaledFeatures',k=k)"
   ]
  },
  {
   "cell_type": "code",
   "execution_count": 384,
   "metadata": {},
   "outputs": [],
   "source": [
    "model = kmeans.fit(cluster_final_data)"
   ]
  },
  {
   "cell_type": "code",
   "execution_count": 385,
   "metadata": {},
   "outputs": [],
   "source": [
    "predictions = model.transform(cluster_final_data)"
   ]
  },
  {
   "cell_type": "code",
   "execution_count": 386,
   "metadata": {},
   "outputs": [
    {
     "name": "stdout",
     "output_type": "stream",
     "text": [
      "22/12/30 01:36:43 WARN CSVHeaderChecker: CSV header does not conform to the schema.\n",
      " Header: , carbohydrates_100g, energy_100g, exceeded, fat_100g, g_sum, product, proteins_100g, reconstructed_energy, salt_100g, sugars_100g\n",
      " Schema: _c0, carbohydrates_100g, energy_100g, exceeded, fat_100g, g_sum, product, proteins_100g, reconstructed_energy, salt_100g, sugars_100g\n",
      "Expected: _c0 but found: \n",
      "CSV file: file:///home/yagor/Рабочий%20стол/mipt/lab3/notebook/data_from_hbase_with_postprocess.csv\n",
      "+---+------------------+-----------+--------+--------+-----+--------------------+-------------+--------------------+---------+-----------+--------------------+--------------------+----------+\n",
      "|_c0|carbohydrates_100g|energy_100g|exceeded|fat_100g|g_sum|             product|proteins_100g|reconstructed_energy|salt_100g|sugars_100g|            features|      scaledFeatures|prediction|\n",
      "+---+------------------+-----------+--------+--------+-----+--------------------+-------------+--------------------+---------+-----------+--------------------+--------------------+----------+\n",
      "|  0|             64.29|     2243.0|       0|   28.57|96.43|Banana Chips Swee...|         3.57|             2267.85|      0.0|      14.29|[28.57,64.29,14.2...|[1.84825649024855...|         6|\n",
      "|  1|              80.0|     1255.0|       0|     0.0| 82.5|California Seedle...|          2.5|              1402.5|      0.0|       60.0|[0.0,80.0,60.0,2....|[0.0,2.7433578271...|         3|\n",
      "|  2|             73.33|     1536.0|       0|    8.33|84.99|  Tropical Fruit Mix|         3.33|             1628.09|    0.127|      56.67|[8.33,73.33,56.67...|[0.53888612403816...|         3|\n",
      "|  3|               0.0|       33.0|       0|    0.41| 1.63|          Beef Broth|         1.22|               36.73|  0.88138|        0.0|[0.41,0.0,0.0,1.2...|[0.02652380682540...|         1|\n",
      "|  4|             21.43|     1197.0|       0|    3.57|67.86|          Beef Jerky|        42.86|             1232.16|  4.35356|      17.86|[3.57,21.43,17.86...|[0.23095119601635...|         2|\n",
      "|  5|             63.16|     2201.0|       0|   31.58|97.37|  Peppermint Patties|         2.63|             2350.05|  0.16764|      57.89|[31.58,63.16,57.8...|[2.04298004767410...|         6|\n",
      "|  6|              65.0|     1046.0|       0|     0.0| 67.5|          Dried Figs|          2.5|              1147.5|      0.0|       47.5|[0.0,65.0,47.5,2....|[0.0,2.2289782345...|         3|\n",
      "|  7|             21.21|      381.0|       0|     0.0|27.27|Quality Tomato Paste|         6.06|              463.59|   0.1143|      12.12|[0.0,21.21,12.12,...|[0.0,0.7273327439...|         1|\n",
      "|  8|              62.5|     1046.0|       0|     0.0| 65.0|            Apricots|          2.5|              1105.0|      0.0|       52.5|[0.0,62.5,52.5,2....|[0.0,2.1432483024...|         3|\n",
      "|  9|              65.0|     1046.0|       0|     0.0| 67.5|       Pitted Prunes|          2.5|              1147.5|      0.0|       37.5|[0.0,65.0,37.5,2....|[0.0,2.2289782345...|         3|\n",
      "| 10|              3.57|        0.0|       0|     0.0| 3.57| Kosher Dill Sprears|          0.0|               60.69|    1.905|        0.0|(9,[1,4,6,7],[3.5...|(9,[1,4,6,7],[0.1...|         1|\n",
      "| 11|             86.05|     1460.0|       0|     0.0|86.05|  Orange Slice Candy|          0.0|             1462.85|      0.0|      55.81|[0.0,86.05,55.81,...|[0.0,2.9508242627...|         3|\n",
      "| 12|             86.84|     1431.0|       0|     0.0|86.84|   Chewy Spice Drops|          0.0|             1476.28|      0.0|      57.89|[0.0,86.84,57.89,...|[0.0,2.9779149213...|         3|\n",
      "| 13|             82.93|     1326.0|       0|     0.0|82.93|    Spearmint Leaves|          0.0|  1409.8100000000002|  0.06096|       56.1|[0.0,82.93,56.1,0...|[0.0,2.8438333075...|         3|\n",
      "| 14|             93.33|     1393.0|       0|     0.0|93.33|         Mint Twists|          0.0|             1586.61|      0.0|      73.33|[0.0,93.33,73.33,...|[0.0,3.2004698250...|         3|\n",
      "| 15|              80.0|     1674.0|       0|     7.5| 90.0|Vanilla Caramels ...|          2.5|              1695.0|  0.60452|       60.0|[7.5,80.0,60.0,2....|[0.48519158826965...|         3|\n",
      "| 16|             90.24|     1531.0|       0|     0.0|90.24|         Jelly Beans|          0.0|             1534.08|      0.0|      80.49|[0.0,90.24,80.49,...|[0.0,3.0945076289...|         3|\n",
      "| 17|             74.29|     1494.0|       0|    1.43|87.15|Macaroni & Cheese...|        11.43|             1513.01|  2.10566|       8.57|[1.43,74.29,8.57,...|[0.09250986283008...|         5|\n",
      "| 18|              57.5|     2301.0|       0|    35.0|100.0|        Banana Chips|          7.5|              2470.0|    0.254|       30.0|[35.0,57.5,30.0,7...|[2.26422741192507...|         6|\n",
      "| 19|              3.57|        0.0|       0|     0.0| 3.57|  Kosher Dill Spears|          0.0|               60.69|    1.905|        0.0|(9,[1,4,6,7],[3.5...|(9,[1,4,6,7],[0.1...|         1|\n",
      "+---+------------------+-----------+--------+--------+-----+--------------------+-------------+--------------------+---------+-----------+--------------------+--------------------+----------+\n",
      "only showing top 20 rows\n",
      "\n"
     ]
    }
   ],
   "source": [
    "predictions.show()"
   ]
  },
  {
   "cell_type": "code",
   "execution_count": 387,
   "metadata": {},
   "outputs": [],
   "source": [
    "evaluator = ClusteringEvaluator()"
   ]
  },
  {
   "cell_type": "code",
   "execution_count": 388,
   "metadata": {},
   "outputs": [],
   "source": [
    "silhouette = evaluator.evaluate(predictions)"
   ]
  },
  {
   "cell_type": "code",
   "execution_count": 389,
   "metadata": {},
   "outputs": [
    {
     "name": "stdout",
     "output_type": "stream",
     "text": [
      "With k=8 Silhouette with squared euclidean distance = 0.2719213425157517\n"
     ]
    }
   ],
   "source": [
    "print(f\"With k={k} Silhouette with squared euclidean distance = \" + str(silhouette))"
   ]
  },
  {
   "cell_type": "code",
   "execution_count": 390,
   "metadata": {},
   "outputs": [
    {
     "name": "stdout",
     "output_type": "stream",
     "text": [
      "Cluster Centers:\n",
      "[ 1.96583064  2.21301295  1.56877413  1.41905729  0.06721025  2.94866513\n",
      "  3.12098855  3.17007092 11.14337555]\n",
      "[0.08476997 0.39927264 0.32057744 0.24624109 0.09684325 0.37789641\n",
      " 0.3565178  0.44537065 0.        ]\n",
      "[0.9277834  0.46578902 0.23855921 1.52108774 0.1101182  1.28026966\n",
      " 1.26033541 1.20040032 0.        ]\n",
      "[0.11400264 2.7799988  3.03181841 0.20737088 0.03800656 1.87571684\n",
      " 1.85788713 2.51609382 0.        ]\n",
      "[ 1.002298    0.8864475   0.39101108  0.88978501 85.41558104  1.45696644\n",
      "  1.4693043   1.4466644   0.        ]\n",
      "[0.28764143 2.23122392 0.34957771 1.21711714 0.15304523 1.82944102\n",
      " 1.82333719 2.36463893 0.        ]\n",
      "[1.67052667 1.97662047 1.37275275 0.71507318 0.07159686 2.63495316\n",
      " 2.62646794 2.65813688 0.        ]\n",
      "[2.884237   0.40454504 0.13832303 2.50930314 0.11063761 2.82465663\n",
      " 2.87952476 2.28732615 0.        ]\n"
     ]
    }
   ],
   "source": [
    "centers=model.clusterCenters()\n",
    "print(\"Cluster Centers:\")\n",
    "for center in centers:\n",
    "    print(center)"
   ]
  },
  {
   "cell_type": "code",
   "execution_count": 391,
   "metadata": {},
   "outputs": [
    {
     "name": "stdout",
     "output_type": "stream",
     "text": [
      "+----------+-----+\n",
      "|prediction|count|\n",
      "+----------+-----+\n",
      "|         1|11531|\n",
      "|         6| 3765|\n",
      "|         3| 2940|\n",
      "|         5| 4130|\n",
      "|         4|    3|\n",
      "|         7| 2727|\n",
      "|         2| 4958|\n",
      "|         0|  246|\n",
      "+----------+-----+\n",
      "\n"
     ]
    }
   ],
   "source": [
    "model.transform(cluster_final_data).groupBy('prediction').count().show()"
   ]
  },
  {
   "cell_type": "code",
   "execution_count": 381,
   "metadata": {},
   "outputs": [],
   "source": [
    "cols = [\"_c0\", \"prediction\"]\n",
    "result = predictions.select(*cols)"
   ]
  },
  {
   "cell_type": "code",
   "execution_count": 382,
   "metadata": {},
   "outputs": [
    {
     "name": "stdout",
     "output_type": "stream",
     "text": [
      "22/12/30 01:26:57 WARN CSVHeaderChecker: CSV header does not conform to the schema.\n",
      " Header: , carbohydrates_100g, energy_100g, exceeded, fat_100g, g_sum, proteins_100g, reconstructed_energy, salt_100g, sugars_100g\n",
      " Schema: _c0, carbohydrates_100g, energy_100g, exceeded, fat_100g, g_sum, proteins_100g, reconstructed_energy, salt_100g, sugars_100g\n",
      "Expected: _c0 but found: \n",
      "CSV file: file:///home/yagor/Рабочий%20стол/mipt/lab3/notebook/data_from_hbase_with_postprocess.csv\n",
      "+---+----------+\n",
      "|_c0|prediction|\n",
      "+---+----------+\n",
      "|  0|         0|\n",
      "|  1|         6|\n",
      "|  2|         6|\n",
      "|  3|         1|\n",
      "|  4|         4|\n",
      "|  5|         0|\n",
      "|  6|         6|\n",
      "|  7|         1|\n",
      "|  8|         6|\n",
      "|  9|         6|\n",
      "| 10|         1|\n",
      "| 11|         6|\n",
      "| 12|         6|\n",
      "| 13|         6|\n",
      "| 14|         6|\n",
      "| 15|         6|\n",
      "| 16|         6|\n",
      "| 17|         5|\n",
      "| 18|         0|\n",
      "| 19|         1|\n",
      "+---+----------+\n",
      "only showing top 20 rows\n",
      "\n"
     ]
    }
   ],
   "source": [
    "result.show()"
   ]
  },
  {
   "cell_type": "code",
   "execution_count": null,
   "metadata": {},
   "outputs": [],
   "source": [
    "result.write.format(\"com.databricks.spark.csv\") \\\n",
    "  .option(\"header\", \"true\") \\\n",
    "  .save(\"output_result.csv\")"
   ]
  },
  {
   "cell_type": "markdown",
   "metadata": {},
   "source": [
    "## Load result from hbase"
   ]
  },
  {
   "cell_type": "code",
   "execution_count": 190,
   "metadata": {},
   "outputs": [],
   "source": [
    "import happybase\n",
    "\n",
    "connection = happybase.Connection('hbase-docker', 9090)\n",
    "table = connection.table('result')"
   ]
  },
  {
   "cell_type": "code",
   "execution_count": 191,
   "metadata": {},
   "outputs": [],
   "source": [
    "all_data = {}\n",
    "for key, data in table.scan():\n",
    "    all_data[key] = data "
   ]
  },
  {
   "cell_type": "code",
   "execution_count": 203,
   "metadata": {},
   "outputs": [
    {
     "data": {
      "text/plain": [
       "45029"
      ]
     },
     "execution_count": 203,
     "metadata": {},
     "output_type": "execute_result"
    }
   ],
   "source": [
    "len(all_data)"
   ]
  },
  {
   "cell_type": "code",
   "execution_count": 193,
   "metadata": {},
   "outputs": [
    {
     "data": {
      "text/plain": [
       "{b'result_data:index': b'2'}"
      ]
     },
     "execution_count": 193,
     "metadata": {},
     "output_type": "execute_result"
    }
   ],
   "source": [
    "all_data[b'1']"
   ]
  },
  {
   "cell_type": "code",
   "execution_count": 189,
   "metadata": {},
   "outputs": [
    {
     "data": {
      "text/plain": [
       "dict_keys([b'res_data:index'])"
      ]
     },
     "execution_count": 189,
     "metadata": {},
     "output_type": "execute_result"
    }
   ],
   "source": [
    "all_data[b'1'].keys()"
   ]
  },
  {
   "cell_type": "code",
   "execution_count": 212,
   "metadata": {},
   "outputs": [
    {
     "name": "stdout",
     "output_type": "stream",
     "text": [
      "key:result_data:index, value:prediction not int\n",
      "key:_c0 not int\n"
     ]
    }
   ],
   "source": [
    "decode_all_data = []\n",
    "funcs = {'result_data:prediction': int}\n",
    "for key in all_data.keys():\n",
    "    decode_row_data = {}\n",
    "    for second_key, val in all_data[key].items():\n",
    "        k = second_key.decode(\"utf-8\")\n",
    "        v = val.decode(\"utf-8\")\n",
    "        try:\n",
    "            cluster = int(v)\n",
    "            decode_row_data['prediction'] = cluster\n",
    "        except:\n",
    "            print(f'key:{k}, value:{v} not int')\n",
    "    try:\n",
    "        decode_row_data['index'] = int(key.decode(\"utf-8\"))\n",
    "    except:\n",
    "        print(f'key:{key.decode(\"utf-8\")} not int')\n",
    "    decode_all_data.append(decode_row_data)\n",
    "\n"
   ]
  },
  {
   "cell_type": "code",
   "execution_count": 213,
   "metadata": {},
   "outputs": [
    {
     "data": {
      "text/plain": [
       "{'prediction': 3, 'index': 10003}"
      ]
     },
     "execution_count": 213,
     "metadata": {},
     "output_type": "execute_result"
    }
   ],
   "source": [
    "decode_all_data[1]"
   ]
  },
  {
   "cell_type": "code",
   "execution_count": 242,
   "metadata": {},
   "outputs": [],
   "source": [
    "import csv\n",
    "import pandas as pd\n",
    "\n",
    "keys = decode_all_data[0].keys()\n",
    "\n",
    "with open('data_from_hbase_result.csv', 'w', newline='') as output_file:\n",
    "    dict_writer = csv.DictWriter(output_file, keys)\n",
    "    dict_writer.writeheader()\n",
    "    dict_writer.writerows(decode_all_data)"
   ]
  },
  {
   "cell_type": "code",
   "execution_count": 257,
   "metadata": {},
   "outputs": [
    {
     "data": {
      "text/html": [
       "<div>\n",
       "<style scoped>\n",
       "    .dataframe tbody tr th:only-of-type {\n",
       "        vertical-align: middle;\n",
       "    }\n",
       "\n",
       "    .dataframe tbody tr th {\n",
       "        vertical-align: top;\n",
       "    }\n",
       "\n",
       "    .dataframe thead th {\n",
       "        text-align: right;\n",
       "    }\n",
       "</style>\n",
       "<table border=\"1\" class=\"dataframe\">\n",
       "  <thead>\n",
       "    <tr style=\"text-align: right;\">\n",
       "      <th></th>\n",
       "      <th>prediction</th>\n",
       "      <th>index</th>\n",
       "    </tr>\n",
       "  </thead>\n",
       "  <tbody>\n",
       "    <tr>\n",
       "      <th>0</th>\n",
       "      <td>2</td>\n",
       "      <td>1</td>\n",
       "    </tr>\n",
       "    <tr>\n",
       "      <th>1</th>\n",
       "      <td>3</td>\n",
       "      <td>10003</td>\n",
       "    </tr>\n",
       "    <tr>\n",
       "      <th>2</th>\n",
       "      <td>0</td>\n",
       "      <td>10004</td>\n",
       "    </tr>\n",
       "    <tr>\n",
       "      <th>3</th>\n",
       "      <td>0</td>\n",
       "      <td>10005</td>\n",
       "    </tr>\n",
       "    <tr>\n",
       "      <th>4</th>\n",
       "      <td>0</td>\n",
       "      <td>10006</td>\n",
       "    </tr>\n",
       "  </tbody>\n",
       "</table>\n",
       "</div>"
      ],
      "text/plain": [
       "   prediction  index\n",
       "0           2      1\n",
       "1           3  10003\n",
       "2           0  10004\n",
       "3           0  10005\n",
       "4           0  10006"
      ]
     },
     "execution_count": 257,
     "metadata": {},
     "output_type": "execute_result"
    }
   ],
   "source": [
    "data_from_db = pd.read_csv('/home/yagor/Рабочий стол/mipt/lab3/notebook/data_from_hbase_result.csv').astype(\"Int64\")\n",
    "data_from_db.head()"
   ]
  },
  {
   "cell_type": "code",
   "execution_count": null,
   "metadata": {},
   "outputs": [],
   "source": [
    "data_from_db.set_index('index')"
   ]
  },
  {
   "cell_type": "code",
   "execution_count": 286,
   "metadata": {},
   "outputs": [
    {
     "data": {
      "text/html": [
       "<div>\n",
       "<style scoped>\n",
       "    .dataframe tbody tr th:only-of-type {\n",
       "        vertical-align: middle;\n",
       "    }\n",
       "\n",
       "    .dataframe tbody tr th {\n",
       "        vertical-align: top;\n",
       "    }\n",
       "\n",
       "    .dataframe thead th {\n",
       "        text-align: right;\n",
       "    }\n",
       "</style>\n",
       "<table border=\"1\" class=\"dataframe\">\n",
       "  <thead>\n",
       "    <tr style=\"text-align: right;\">\n",
       "      <th></th>\n",
       "      <th>prediction</th>\n",
       "    </tr>\n",
       "    <tr>\n",
       "      <th>index</th>\n",
       "      <th></th>\n",
       "    </tr>\n",
       "  </thead>\n",
       "  <tbody>\n",
       "    <tr>\n",
       "      <th>1</th>\n",
       "      <td>2</td>\n",
       "    </tr>\n",
       "    <tr>\n",
       "      <th>2</th>\n",
       "      <td>2</td>\n",
       "    </tr>\n",
       "    <tr>\n",
       "      <th>3</th>\n",
       "      <td>5</td>\n",
       "    </tr>\n",
       "    <tr>\n",
       "      <th>7</th>\n",
       "      <td>2</td>\n",
       "    </tr>\n",
       "    <tr>\n",
       "      <th>12</th>\n",
       "      <td>5</td>\n",
       "    </tr>\n",
       "    <tr>\n",
       "      <th>...</th>\n",
       "      <td>...</td>\n",
       "    </tr>\n",
       "    <tr>\n",
       "      <th>49995</th>\n",
       "      <td>0</td>\n",
       "    </tr>\n",
       "    <tr>\n",
       "      <th>49996</th>\n",
       "      <td>0</td>\n",
       "    </tr>\n",
       "    <tr>\n",
       "      <th>49997</th>\n",
       "      <td>0</td>\n",
       "    </tr>\n",
       "    <tr>\n",
       "      <th>49998</th>\n",
       "      <td>0</td>\n",
       "    </tr>\n",
       "    <tr>\n",
       "      <th>49999</th>\n",
       "      <td>0</td>\n",
       "    </tr>\n",
       "  </tbody>\n",
       "</table>\n",
       "<p>45028 rows × 1 columns</p>\n",
       "</div>"
      ],
      "text/plain": [
       "       prediction\n",
       "index            \n",
       "1               2\n",
       "2               2\n",
       "3               5\n",
       "7               2\n",
       "12              5\n",
       "...           ...\n",
       "49995           0\n",
       "49996           0\n",
       "49997           0\n",
       "49998           0\n",
       "49999           0\n",
       "\n",
       "[45028 rows x 1 columns]"
      ]
     },
     "execution_count": 286,
     "metadata": {},
     "output_type": "execute_result"
    }
   ],
   "source": [
    "df = data_from_db[data_from_db['index'].notna()].set_index('index').sort_index()\n",
    "df"
   ]
  },
  {
   "cell_type": "code",
   "execution_count": 287,
   "metadata": {},
   "outputs": [],
   "source": [
    "df.to_csv('data_result_from_hbase_with_postprocess.csv')"
   ]
  },
  {
   "cell_type": "code",
   "execution_count": 290,
   "metadata": {},
   "outputs": [
    {
     "data": {
      "text/html": [
       "<div>\n",
       "<style scoped>\n",
       "    .dataframe tbody tr th:only-of-type {\n",
       "        vertical-align: middle;\n",
       "    }\n",
       "\n",
       "    .dataframe tbody tr th {\n",
       "        vertical-align: top;\n",
       "    }\n",
       "\n",
       "    .dataframe thead th {\n",
       "        text-align: right;\n",
       "    }\n",
       "</style>\n",
       "<table border=\"1\" class=\"dataframe\">\n",
       "  <thead>\n",
       "    <tr style=\"text-align: right;\">\n",
       "      <th></th>\n",
       "      <th>prediction</th>\n",
       "    </tr>\n",
       "    <tr>\n",
       "      <th>index</th>\n",
       "      <th></th>\n",
       "    </tr>\n",
       "  </thead>\n",
       "  <tbody>\n",
       "    <tr>\n",
       "      <th>1</th>\n",
       "      <td>2</td>\n",
       "    </tr>\n",
       "    <tr>\n",
       "      <th>2</th>\n",
       "      <td>2</td>\n",
       "    </tr>\n",
       "    <tr>\n",
       "      <th>3</th>\n",
       "      <td>5</td>\n",
       "    </tr>\n",
       "    <tr>\n",
       "      <th>7</th>\n",
       "      <td>2</td>\n",
       "    </tr>\n",
       "    <tr>\n",
       "      <th>12</th>\n",
       "      <td>5</td>\n",
       "    </tr>\n",
       "  </tbody>\n",
       "</table>\n",
       "</div>"
      ],
      "text/plain": [
       "       prediction\n",
       "index            \n",
       "1               2\n",
       "2               2\n",
       "3               5\n",
       "7               2\n",
       "12              5"
      ]
     },
     "execution_count": 290,
     "metadata": {},
     "output_type": "execute_result"
    }
   ],
   "source": [
    "data_from_db_new_res = pd.read_csv('/home/yagor/Рабочий стол/mipt/lab3/notebook/data_result_from_hbase_with_postprocess.csv', index_col=['index'])\n",
    "data_from_db_new_res.head()"
   ]
  },
  {
   "cell_type": "code",
   "execution_count": 291,
   "metadata": {},
   "outputs": [
    {
     "data": {
      "text/plain": [
       "prediction    45028\n",
       "dtype: int64"
      ]
     },
     "execution_count": 291,
     "metadata": {},
     "output_type": "execute_result"
    }
   ],
   "source": [
    "data_from_db_new_res.count()"
   ]
  },
  {
   "cell_type": "markdown",
   "metadata": {},
   "source": [
    "## Load in and out HBase data (experiments)"
   ]
  },
  {
   "cell_type": "code",
   "execution_count": 38,
   "metadata": {},
   "outputs": [],
   "source": [
    "import pandas as pd"
   ]
  },
  {
   "cell_type": "code",
   "execution_count": 303,
   "metadata": {},
   "outputs": [
    {
     "data": {
      "text/plain": [
       "['Unnamed: 0',\n",
       " 'fat_100g',\n",
       " 'carbohydrates_100g',\n",
       " 'sugars_100g',\n",
       " 'proteins_100g',\n",
       " 'salt_100g',\n",
       " 'energy_100g',\n",
       " 'reconstructed_energy',\n",
       " 'g_sum',\n",
       " 'exceeded',\n",
       " 'product']"
      ]
     },
     "execution_count": 303,
     "metadata": {},
     "output_type": "execute_result"
    }
   ],
   "source": [
    "d = pd.read_csv(\"/home/yagor/Рабочий стол/mipt/lab3/notebook/nutrition_table.csv\")\n",
    "d_col = list(d.columns)\n",
    "d_col"
   ]
  },
  {
   "cell_type": "code",
   "execution_count": 305,
   "metadata": {},
   "outputs": [
    {
     "data": {
      "text/html": [
       "<div>\n",
       "<style scoped>\n",
       "    .dataframe tbody tr th:only-of-type {\n",
       "        vertical-align: middle;\n",
       "    }\n",
       "\n",
       "    .dataframe tbody tr th {\n",
       "        vertical-align: top;\n",
       "    }\n",
       "\n",
       "    .dataframe thead th {\n",
       "        text-align: right;\n",
       "    }\n",
       "</style>\n",
       "<table border=\"1\" class=\"dataframe\">\n",
       "  <thead>\n",
       "    <tr style=\"text-align: right;\">\n",
       "      <th></th>\n",
       "      <th>Unnamed: 0</th>\n",
       "      <th>fat_100g</th>\n",
       "      <th>carbohydrates_100g</th>\n",
       "      <th>sugars_100g</th>\n",
       "      <th>proteins_100g</th>\n",
       "      <th>salt_100g</th>\n",
       "      <th>energy_100g</th>\n",
       "      <th>reconstructed_energy</th>\n",
       "      <th>g_sum</th>\n",
       "      <th>exceeded</th>\n",
       "      <th>product</th>\n",
       "    </tr>\n",
       "  </thead>\n",
       "  <tbody>\n",
       "    <tr>\n",
       "      <th>0</th>\n",
       "      <td>1</td>\n",
       "      <td>28.57</td>\n",
       "      <td>64.29</td>\n",
       "      <td>14.29</td>\n",
       "      <td>3.57</td>\n",
       "      <td>0.00000</td>\n",
       "      <td>2243.0</td>\n",
       "      <td>2267.85</td>\n",
       "      <td>96.43</td>\n",
       "      <td>0</td>\n",
       "      <td>Banana Chips Sweetened (Whole)</td>\n",
       "    </tr>\n",
       "    <tr>\n",
       "      <th>1</th>\n",
       "      <td>2</td>\n",
       "      <td>17.86</td>\n",
       "      <td>60.71</td>\n",
       "      <td>17.86</td>\n",
       "      <td>17.86</td>\n",
       "      <td>0.63500</td>\n",
       "      <td>1941.0</td>\n",
       "      <td>2032.23</td>\n",
       "      <td>96.43</td>\n",
       "      <td>0</td>\n",
       "      <td>Peanuts</td>\n",
       "    </tr>\n",
       "    <tr>\n",
       "      <th>2</th>\n",
       "      <td>3</td>\n",
       "      <td>57.14</td>\n",
       "      <td>17.86</td>\n",
       "      <td>3.57</td>\n",
       "      <td>17.86</td>\n",
       "      <td>1.22428</td>\n",
       "      <td>2540.0</td>\n",
       "      <td>2835.70</td>\n",
       "      <td>92.86</td>\n",
       "      <td>0</td>\n",
       "      <td>Organic Salted Nut Mix</td>\n",
       "    </tr>\n",
       "    <tr>\n",
       "      <th>3</th>\n",
       "      <td>7</td>\n",
       "      <td>18.75</td>\n",
       "      <td>57.81</td>\n",
       "      <td>15.62</td>\n",
       "      <td>14.06</td>\n",
       "      <td>0.13970</td>\n",
       "      <td>1833.0</td>\n",
       "      <td>1953.04</td>\n",
       "      <td>90.62</td>\n",
       "      <td>0</td>\n",
       "      <td>Organic Muesli</td>\n",
       "    </tr>\n",
       "    <tr>\n",
       "      <th>4</th>\n",
       "      <td>12</td>\n",
       "      <td>36.67</td>\n",
       "      <td>36.67</td>\n",
       "      <td>3.33</td>\n",
       "      <td>16.67</td>\n",
       "      <td>1.60782</td>\n",
       "      <td>2230.0</td>\n",
       "      <td>2336.91</td>\n",
       "      <td>90.01</td>\n",
       "      <td>0</td>\n",
       "      <td>Zen Party Mix</td>\n",
       "    </tr>\n",
       "    <tr>\n",
       "      <th>...</th>\n",
       "      <td>...</td>\n",
       "      <td>...</td>\n",
       "      <td>...</td>\n",
       "      <td>...</td>\n",
       "      <td>...</td>\n",
       "      <td>...</td>\n",
       "      <td>...</td>\n",
       "      <td>...</td>\n",
       "      <td>...</td>\n",
       "      <td>...</td>\n",
       "      <td>...</td>\n",
       "    </tr>\n",
       "    <tr>\n",
       "      <th>45023</th>\n",
       "      <td>49995</td>\n",
       "      <td>0.00</td>\n",
       "      <td>17.92</td>\n",
       "      <td>7.08</td>\n",
       "      <td>0.42</td>\n",
       "      <td>0.03810</td>\n",
       "      <td>297.0</td>\n",
       "      <td>311.78</td>\n",
       "      <td>18.34</td>\n",
       "      <td>0</td>\n",
       "      <td>100% Juice, Prune Juice</td>\n",
       "    </tr>\n",
       "    <tr>\n",
       "      <th>45024</th>\n",
       "      <td>49996</td>\n",
       "      <td>0.00</td>\n",
       "      <td>14.58</td>\n",
       "      <td>14.58</td>\n",
       "      <td>0.00</td>\n",
       "      <td>0.03810</td>\n",
       "      <td>243.0</td>\n",
       "      <td>247.86</td>\n",
       "      <td>14.58</td>\n",
       "      <td>0</td>\n",
       "      <td>100% Juice Blend</td>\n",
       "    </tr>\n",
       "    <tr>\n",
       "      <th>45025</th>\n",
       "      <td>49997</td>\n",
       "      <td>0.00</td>\n",
       "      <td>13.33</td>\n",
       "      <td>13.33</td>\n",
       "      <td>0.00</td>\n",
       "      <td>0.03810</td>\n",
       "      <td>226.0</td>\n",
       "      <td>226.61</td>\n",
       "      <td>13.33</td>\n",
       "      <td>0</td>\n",
       "      <td>Cranberry Apple Flavored Juice Blended With On...</td>\n",
       "    </tr>\n",
       "    <tr>\n",
       "      <th>45026</th>\n",
       "      <td>49998</td>\n",
       "      <td>0.00</td>\n",
       "      <td>16.25</td>\n",
       "      <td>16.25</td>\n",
       "      <td>0.00</td>\n",
       "      <td>0.03810</td>\n",
       "      <td>259.0</td>\n",
       "      <td>276.25</td>\n",
       "      <td>16.25</td>\n",
       "      <td>0</td>\n",
       "      <td>Cranberry Grape, 100% Juice Blend</td>\n",
       "    </tr>\n",
       "    <tr>\n",
       "      <th>45027</th>\n",
       "      <td>49999</td>\n",
       "      <td>0.00</td>\n",
       "      <td>0.00</td>\n",
       "      <td>0.00</td>\n",
       "      <td>0.00</td>\n",
       "      <td>0.00000</td>\n",
       "      <td>0.0</td>\n",
       "      <td>0.00</td>\n",
       "      <td>0.00</td>\n",
       "      <td>0</td>\n",
       "      <td>100% Juice Reconstituted Lemon Juice With Adde...</td>\n",
       "    </tr>\n",
       "  </tbody>\n",
       "</table>\n",
       "<p>45028 rows × 11 columns</p>\n",
       "</div>"
      ],
      "text/plain": [
       "       Unnamed: 0  fat_100g  carbohydrates_100g  sugars_100g  proteins_100g  \\\n",
       "0               1     28.57               64.29        14.29           3.57   \n",
       "1               2     17.86               60.71        17.86          17.86   \n",
       "2               3     57.14               17.86         3.57          17.86   \n",
       "3               7     18.75               57.81        15.62          14.06   \n",
       "4              12     36.67               36.67         3.33          16.67   \n",
       "...           ...       ...                 ...          ...            ...   \n",
       "45023       49995      0.00               17.92         7.08           0.42   \n",
       "45024       49996      0.00               14.58        14.58           0.00   \n",
       "45025       49997      0.00               13.33        13.33           0.00   \n",
       "45026       49998      0.00               16.25        16.25           0.00   \n",
       "45027       49999      0.00                0.00         0.00           0.00   \n",
       "\n",
       "       salt_100g  energy_100g  reconstructed_energy  g_sum  exceeded  \\\n",
       "0        0.00000       2243.0               2267.85  96.43         0   \n",
       "1        0.63500       1941.0               2032.23  96.43         0   \n",
       "2        1.22428       2540.0               2835.70  92.86         0   \n",
       "3        0.13970       1833.0               1953.04  90.62         0   \n",
       "4        1.60782       2230.0               2336.91  90.01         0   \n",
       "...          ...          ...                   ...    ...       ...   \n",
       "45023    0.03810        297.0                311.78  18.34         0   \n",
       "45024    0.03810        243.0                247.86  14.58         0   \n",
       "45025    0.03810        226.0                226.61  13.33         0   \n",
       "45026    0.03810        259.0                276.25  16.25         0   \n",
       "45027    0.00000          0.0                  0.00   0.00         0   \n",
       "\n",
       "                                                 product  \n",
       "0                         Banana Chips Sweetened (Whole)  \n",
       "1                                                Peanuts  \n",
       "2                                 Organic Salted Nut Mix  \n",
       "3                                         Organic Muesli  \n",
       "4                                          Zen Party Mix  \n",
       "...                                                  ...  \n",
       "45023                            100% Juice, Prune Juice  \n",
       "45024                                   100% Juice Blend  \n",
       "45025  Cranberry Apple Flavored Juice Blended With On...  \n",
       "45026                  Cranberry Grape, 100% Juice Blend  \n",
       "45027  100% Juice Reconstituted Lemon Juice With Adde...  \n",
       "\n",
       "[45028 rows x 11 columns]"
      ]
     },
     "execution_count": 305,
     "metadata": {},
     "output_type": "execute_result"
    }
   ],
   "source": [
    "d"
   ]
  },
  {
   "cell_type": "code",
   "execution_count": 45,
   "metadata": {},
   "outputs": [],
   "source": [
    "host = 'hbase-docker'#\"172.17.0.2\"#, 9090\n",
    "port = 9090\n",
    "def connect_to_hbase():\n",
    "    \"\"\" Connect to HBase server.\n",
    "    This will use the host, namespace, table name, and batch size as defined in\n",
    "    the global variables above.\n",
    "    \"\"\"\n",
    "    conn = happybase.Connection(host = host, port=port, autoconnect=True,\n",
    "        table_prefix = namespace,\n",
    "        table_prefix_separator = \":\")\n",
    "    conn.open()\n",
    "    table = conn.table(table_name)\n",
    "    batch = table.batch(batch_size = batch_size)\n",
    "    return conn, batch"
   ]
  },
  {
   "cell_type": "code",
   "execution_count": 54,
   "metadata": {},
   "outputs": [],
   "source": [
    "conn, batch = connect_to_hbase()"
   ]
  },
  {
   "cell_type": "code",
   "execution_count": 55,
   "metadata": {},
   "outputs": [
    {
     "data": {
      "text/plain": [
       "(<happybase.connection.Connection at 0x7f5a0488b9a0>,\n",
       " <happybase.batch.Batch at 0x7f5a04888610>)"
      ]
     },
     "execution_count": 55,
     "metadata": {},
     "output_type": "execute_result"
    }
   ],
   "source": [
    "conn, batch"
   ]
  },
  {
   "cell_type": "code",
   "execution_count": 56,
   "metadata": {},
   "outputs": [
    {
     "data": {
      "text/plain": [
       "<bound method Connection.table of <happybase.connection.Connection object at 0x7f5a0488b9a0>>"
      ]
     },
     "execution_count": 56,
     "metadata": {},
     "output_type": "execute_result"
    }
   ],
   "source": [
    "conn.table"
   ]
  },
  {
   "cell_type": "code",
   "execution_count": 57,
   "metadata": {},
   "outputs": [
    {
     "ename": "IOError",
     "evalue": "IOError(message=b'org.apache.hadoop.hbase.TableNotFoundException: sample_data:nutrition\\n\\tat org.apache.hadoop.hbase.client.HBaseAdmin$42.rpcCall(HBaseAdmin.java:2048)\\n\\tat org.apache.hadoop.hbase.client.HBaseAdmin$42.rpcCall(HBaseAdmin.java:2044)\\n\\tat org.apache.hadoop.hbase.client.RpcRetryingCallable.call(RpcRetryingCallable.java:58)\\n\\tat org.apache.hadoop.hbase.client.RpcRetryingCallerImpl.callWithRetries(RpcRetryingCallerImpl.java:107)\\n\\tat org.apache.hadoop.hbase.client.HBaseAdmin.executeCallable(HBaseAdmin.java:3084)\\n\\tat org.apache.hadoop.hbase.client.HBaseAdmin.executeCallable(HBaseAdmin.java:3076)\\n\\tat org.apache.hadoop.hbase.client.HBaseAdmin.checkTableExists(HBaseAdmin.java:2044)\\n\\tat org.apache.hadoop.hbase.client.HBaseAdmin.isTableEnabled(HBaseAdmin.java:971)\\n\\tat org.apache.hadoop.hbase.thrift.ThriftServerRunner$HBaseHandler.isTableEnabled(ThriftServerRunner.java:872)\\n\\tat sun.reflect.NativeMethodAccessorImpl.invoke0(Native Method)\\n\\tat sun.reflect.NativeMethodAccessorImpl.invoke(NativeMethodAccessorImpl.java:62)\\n\\tat sun.reflect.DelegatingMethodAccessorImpl.invoke(DelegatingMethodAccessorImpl.java:43)\\n\\tat java.lang.reflect.Method.invoke(Method.java:498)\\n\\tat org.apache.hadoop.hbase.thrift.HbaseHandlerMetricsProxy.invoke(HbaseHandlerMetricsProxy.java:66)\\n\\tat com.sun.proxy.$Proxy10.isTableEnabled(Unknown Source)\\n\\tat org.apache.hadoop.hbase.thrift.generated.Hbase$Processor$isTableEnabled.getResult(Hbase.java:3795)\\n\\tat org.apache.hadoop.hbase.thrift.generated.Hbase$Processor$isTableEnabled.getResult(Hbase.java:3779)\\n\\tat org.apache.thrift.ProcessFunction.process(ProcessFunction.java:39)\\n\\tat org.apache.thrift.TBaseProcessor.process(TBaseProcessor.java:39)\\n\\tat org.apache.hadoop.hbase.thrift.TBoundedThreadPoolServer$ClientConnnection.run(TBoundedThreadPoolServer.java:293)\\n\\tat java.util.concurrent.ThreadPoolExecutor.runWorker(ThreadPoolExecutor.java:1149)\\n\\tat java.util.concurrent.ThreadPoolExecutor$Worker.run(ThreadPoolExecutor.java:624)\\n\\tat java.lang.Thread.run(Thread.java:748)\\n')",
     "output_type": "error",
     "traceback": [
      "\u001b[0;31m---------------------------------------------------------------------------\u001b[0m",
      "\u001b[0;31mIOError\u001b[0m                                   Traceback (most recent call last)",
      "Cell \u001b[0;32mIn [57], line 1\u001b[0m\n\u001b[0;32m----> 1\u001b[0m conn\u001b[39m.\u001b[39;49mis_table_enabled(table_name)\n",
      "File \u001b[0;32m~/anaconda3/envs/pyspark_env/lib/python3.10/site-packages/happybase/connection.py:355\u001b[0m, in \u001b[0;36mConnection.is_table_enabled\u001b[0;34m(self, name)\u001b[0m\n\u001b[1;32m    347\u001b[0m \u001b[39m\"\"\"Return whether the specified table is enabled.\u001b[39;00m\n\u001b[1;32m    348\u001b[0m \n\u001b[1;32m    349\u001b[0m \u001b[39m:param str name: The table name\u001b[39;00m\n\u001b[0;32m   (...)\u001b[0m\n\u001b[1;32m    352\u001b[0m \u001b[39m:rtype: bool\u001b[39;00m\n\u001b[1;32m    353\u001b[0m \u001b[39m\"\"\"\u001b[39;00m\n\u001b[1;32m    354\u001b[0m name \u001b[39m=\u001b[39m \u001b[39mself\u001b[39m\u001b[39m.\u001b[39m_table_name(name)\n\u001b[0;32m--> 355\u001b[0m \u001b[39mreturn\u001b[39;00m \u001b[39mself\u001b[39;49m\u001b[39m.\u001b[39;49mclient\u001b[39m.\u001b[39;49misTableEnabled(name)\n",
      "File \u001b[0;32m~/anaconda3/envs/pyspark_env/lib/python3.10/site-packages/thriftpy2/thrift.py:219\u001b[0m, in \u001b[0;36mTClient._req\u001b[0;34m(self, _api, *args, **kwargs)\u001b[0m\n\u001b[1;32m    217\u001b[0m \u001b[39m# wait result only if non-oneway\u001b[39;00m\n\u001b[1;32m    218\u001b[0m \u001b[39mif\u001b[39;00m \u001b[39mnot\u001b[39;00m \u001b[39mgetattr\u001b[39m(result_cls, \u001b[39m\"\u001b[39m\u001b[39moneway\u001b[39m\u001b[39m\"\u001b[39m):\n\u001b[0;32m--> 219\u001b[0m     \u001b[39mreturn\u001b[39;00m \u001b[39mself\u001b[39;49m\u001b[39m.\u001b[39;49m_recv(_api)\n",
      "File \u001b[0;32m~/anaconda3/envs/pyspark_env/lib/python3.10/site-packages/thriftpy2/thrift.py:251\u001b[0m, in \u001b[0;36mTClient._recv\u001b[0;34m(self, _api)\u001b[0m\n\u001b[1;32m    249\u001b[0m \u001b[39mfor\u001b[39;00m k, v \u001b[39min\u001b[39;00m result\u001b[39m.\u001b[39m\u001b[39m__dict__\u001b[39m\u001b[39m.\u001b[39mitems():\n\u001b[1;32m    250\u001b[0m     \u001b[39mif\u001b[39;00m k \u001b[39m!=\u001b[39m \u001b[39m\"\u001b[39m\u001b[39msuccess\u001b[39m\u001b[39m\"\u001b[39m \u001b[39mand\u001b[39;00m v:\n\u001b[0;32m--> 251\u001b[0m         \u001b[39mraise\u001b[39;00m v\n\u001b[1;32m    253\u001b[0m \u001b[39m# no throws & not void api\u001b[39;00m\n\u001b[1;32m    254\u001b[0m \u001b[39mif\u001b[39;00m \u001b[39mhasattr\u001b[39m(result, \u001b[39m\"\u001b[39m\u001b[39msuccess\u001b[39m\u001b[39m\"\u001b[39m):\n",
      "\u001b[0;31mIOError\u001b[0m: IOError(message=b'org.apache.hadoop.hbase.TableNotFoundException: sample_data:nutrition\\n\\tat org.apache.hadoop.hbase.client.HBaseAdmin$42.rpcCall(HBaseAdmin.java:2048)\\n\\tat org.apache.hadoop.hbase.client.HBaseAdmin$42.rpcCall(HBaseAdmin.java:2044)\\n\\tat org.apache.hadoop.hbase.client.RpcRetryingCallable.call(RpcRetryingCallable.java:58)\\n\\tat org.apache.hadoop.hbase.client.RpcRetryingCallerImpl.callWithRetries(RpcRetryingCallerImpl.java:107)\\n\\tat org.apache.hadoop.hbase.client.HBaseAdmin.executeCallable(HBaseAdmin.java:3084)\\n\\tat org.apache.hadoop.hbase.client.HBaseAdmin.executeCallable(HBaseAdmin.java:3076)\\n\\tat org.apache.hadoop.hbase.client.HBaseAdmin.checkTableExists(HBaseAdmin.java:2044)\\n\\tat org.apache.hadoop.hbase.client.HBaseAdmin.isTableEnabled(HBaseAdmin.java:971)\\n\\tat org.apache.hadoop.hbase.thrift.ThriftServerRunner$HBaseHandler.isTableEnabled(ThriftServerRunner.java:872)\\n\\tat sun.reflect.NativeMethodAccessorImpl.invoke0(Native Method)\\n\\tat sun.reflect.NativeMethodAccessorImpl.invoke(NativeMethodAccessorImpl.java:62)\\n\\tat sun.reflect.DelegatingMethodAccessorImpl.invoke(DelegatingMethodAccessorImpl.java:43)\\n\\tat java.lang.reflect.Method.invoke(Method.java:498)\\n\\tat org.apache.hadoop.hbase.thrift.HbaseHandlerMetricsProxy.invoke(HbaseHandlerMetricsProxy.java:66)\\n\\tat com.sun.proxy.$Proxy10.isTableEnabled(Unknown Source)\\n\\tat org.apache.hadoop.hbase.thrift.generated.Hbase$Processor$isTableEnabled.getResult(Hbase.java:3795)\\n\\tat org.apache.hadoop.hbase.thrift.generated.Hbase$Processor$isTableEnabled.getResult(Hbase.java:3779)\\n\\tat org.apache.thrift.ProcessFunction.process(ProcessFunction.java:39)\\n\\tat org.apache.thrift.TBaseProcessor.process(TBaseProcessor.java:39)\\n\\tat org.apache.hadoop.hbase.thrift.TBoundedThreadPoolServer$ClientConnnection.run(TBoundedThreadPoolServer.java:293)\\n\\tat java.util.concurrent.ThreadPoolExecutor.runWorker(ThreadPoolExecutor.java:1149)\\n\\tat java.util.concurrent.ThreadPoolExecutor$Worker.run(ThreadPoolExecutor.java:624)\\n\\tat java.lang.Thread.run(Thread.java:748)\\n')"
     ]
    }
   ],
   "source": [
    "conn.is_table_enabled(table_name)"
   ]
  },
  {
   "cell_type": "code",
   "execution_count": 43,
   "metadata": {},
   "outputs": [
    {
     "ename": "IOError",
     "evalue": "IOError(message=b'org.apache.hadoop.hbase.NamespaceNotFoundException: org.apache.hadoop.hbase.NamespaceNotFoundException: sample_data\\n\\tat org.apache.hadoop.hbase.master.ClusterSchemaServiceImpl.getNamespace(ClusterSchemaServiceImpl.java:119)\\n\\tat org.apache.hadoop.hbase.master.HMaster.createTable(HMaster.java:1975)\\n\\tat org.apache.hadoop.hbase.master.MasterRpcServices.createTable(MasterRpcServices.java:630)\\n\\tat org.apache.hadoop.hbase.shaded.protobuf.generated.MasterProtos$MasterService$2.callBlockingMethod(MasterProtos.java)\\n\\tat org.apache.hadoop.hbase.ipc.RpcServer.call(RpcServer.java:413)\\n\\tat org.apache.hadoop.hbase.ipc.CallRunner.run(CallRunner.java:130)\\n\\tat org.apache.hadoop.hbase.ipc.RpcExecutor$Handler.run(RpcExecutor.java:324)\\n\\tat org.apache.hadoop.hbase.ipc.RpcExecutor$Handler.run(RpcExecutor.java:304)\\n\\n\\tat sun.reflect.NativeConstructorAccessorImpl.newInstance0(Native Method)\\n\\tat sun.reflect.NativeConstructorAccessorImpl.newInstance(NativeConstructorAccessorImpl.java:62)\\n\\tat sun.reflect.DelegatingConstructorAccessorImpl.newInstance(DelegatingConstructorAccessorImpl.java:45)\\n\\tat java.lang.reflect.Constructor.newInstance(Constructor.java:423)\\n\\tat org.apache.hadoop.hbase.ipc.RemoteWithExtrasException.instantiateException(RemoteWithExtrasException.java:100)\\n\\tat org.apache.hadoop.hbase.ipc.RemoteWithExtrasException.unwrapRemoteException(RemoteWithExtrasException.java:90)\\n\\tat org.apache.hadoop.hbase.shaded.protobuf.ProtobufUtil.makeIOExceptionOfException(ProtobufUtil.java:362)\\n\\tat org.apache.hadoop.hbase.shaded.protobuf.ProtobufUtil.handleRemoteException(ProtobufUtil.java:350)\\n\\tat org.apache.hadoop.hbase.client.MasterCallable.call(MasterCallable.java:101)\\n\\tat org.apache.hadoop.hbase.client.RpcRetryingCallerImpl.callWithRetries(RpcRetryingCallerImpl.java:107)\\n\\tat org.apache.hadoop.hbase.client.HBaseAdmin.executeCallable(HBaseAdmin.java:3084)\\n\\tat org.apache.hadoop.hbase.client.HBaseAdmin.executeCallable(HBaseAdmin.java:3076)\\n\\tat org.apache.hadoop.hbase.client.HBaseAdmin.createTableAsync(HBaseAdmin.java:647)\\n\\tat org.apache.hadoop.hbase.client.HBaseAdmin.createTable(HBaseAdmin.java:620)\\n\\tat org.apache.hadoop.hbase.client.HBaseAdmin.createTable(HBaseAdmin.java:594)\\n\\tat org.apache.hadoop.hbase.thrift.ThriftServerRunner$HBaseHandler.createTable(ThriftServerRunner.java:1304)\\n\\tat sun.reflect.NativeMethodAccessorImpl.invoke0(Native Method)\\n\\tat sun.reflect.NativeMethodAccessorImpl.invoke(NativeMethodAccessorImpl.java:62)\\n\\tat sun.reflect.DelegatingMethodAccessorImpl.invoke(DelegatingMethodAccessorImpl.java:43)\\n\\tat java.lang.reflect.Method.invoke(Method.java:498)\\n\\tat org.apache.hadoop.hbase.thrift.HbaseHandlerMetricsProxy.invoke(HbaseHandlerMetricsProxy.java:66)\\n\\tat com.sun.proxy.$Proxy10.createTable(Unknown Source)\\n\\tat org.apache.hadoop.hbase.thrift.generated.Hbase$Processor$createTable.getResult(Hbase.java:3940)\\n\\tat org.apache.hadoop.hbase.thrift.generated.Hbase$Processor$createTable.getResult(Hbase.java:3924)\\n\\tat org.apache.thrift.ProcessFunction.process(ProcessFunction.java:39)\\n\\tat org.apache.thrift.TBaseProcessor.process(TBaseProcessor.java:39)\\n\\tat org.apache.hadoop.hbase.thrift.TBoundedThreadPoolServer$ClientConnnection.run(TBoundedThreadPoolServer.java:293)\\n\\tat java.util.concurrent.ThreadPoolExecutor.runWorker(ThreadPoolExecutor.java:1149)\\n\\tat java.util.concurrent.ThreadPoolExecutor$Worker.run(ThreadPoolExecutor.java:624)\\n\\tat java.lang.Thread.run(Thread.java:748)\\nCaused by: org.apache.hadoop.hbase.ipc.RemoteWithExtrasException(org.apache.hadoop.hbase.NamespaceNotFoundException): org.apache.hadoop.hbase.NamespaceNotFoundException: sample_data\\n\\tat org.apache.hadoop.hbase.master.ClusterSchemaServiceImpl.getNamespace(ClusterSchemaServiceImpl.java:119)\\n\\tat org.apache.hadoop.hbase.master.HMaster.createTable(HMaster.java:1975)\\n\\tat org.apache.hadoop.hbase.master.MasterRpcServices.createTable(MasterRpcServices.java:630)\\n\\tat org.apache.hadoop.hbase.shaded.protobuf.generated.MasterProtos$MasterService$2.callBlockingMethod(MasterProtos.java)\\n\\tat org.apache.hadoop.hbase.ipc.RpcServer.call(RpcServer.java:413)\\n\\tat org.apache.hadoop.hbase.ipc.CallRunner.run(CallRunner.java:130)\\n\\tat org.apache.hadoop.hbase.ipc.RpcExecutor$Handler.run(RpcExecutor.java:324)\\n\\tat org.apache.hadoop.hbase.ipc.RpcExecutor$Handler.run(RpcExecutor.java:304)\\n\\n\\tat org.apache.hadoop.hbase.ipc.AbstractRpcClient.onCallFinished(AbstractRpcClient.java:387)\\n\\tat org.apache.hadoop.hbase.ipc.AbstractRpcClient.access$100(AbstractRpcClient.java:95)\\n\\tat org.apache.hadoop.hbase.ipc.AbstractRpcClient$3.run(AbstractRpcClient.java:410)\\n\\tat org.apache.hadoop.hbase.ipc.AbstractRpcClient$3.run(AbstractRpcClient.java:406)\\n\\tat org.apache.hadoop.hbase.ipc.Call.callComplete(Call.java:103)\\n\\tat org.apache.hadoop.hbase.ipc.Call.setException(Call.java:118)\\n\\tat org.apache.hadoop.hbase.ipc.NettyRpcDuplexHandler.readResponse(NettyRpcDuplexHandler.java:162)\\n\\tat org.apache.hadoop.hbase.ipc.NettyRpcDuplexHandler.channelRead(NettyRpcDuplexHandler.java:192)\\n\\tat org.apache.hbase.thirdparty.io.netty.channel.AbstractChannelHandlerContext.invokeChannelRead(AbstractChannelHandlerContext.java:362)\\n\\tat org.apache.hbase.thirdparty.io.netty.channel.AbstractChannelHandlerContext.invokeChannelRead(AbstractChannelHandlerContext.java:348)\\n\\tat org.apache.hbase.thirdparty.io.netty.channel.AbstractChannelHandlerContext.fireChannelRead(AbstractChannelHandlerContext.java:340)\\n\\tat org.apache.hbase.thirdparty.io.netty.handler.codec.ByteToMessageDecoder.fireChannelRead(ByteToMessageDecoder.java:310)\\n\\tat org.apache.hbase.thirdparty.io.netty.handler.codec.ByteToMessageDecoder.channelRead(ByteToMessageDecoder.java:284)\\n\\tat org.apache.hbase.thirdparty.io.netty.channel.AbstractChannelHandlerContext.invokeChannelRead(AbstractChannelHandlerContext.java:362)\\n\\tat org.apache.hbase.thirdparty.io.netty.channel.AbstractChannelHandlerContext.invokeChannelRead(AbstractChannelHandlerContext.java:348)\\n\\tat org.apache.hbase.thirdparty.io.netty.channel.AbstractChannelHandlerContext.fireChannelRead(AbstractChannelHandlerContext.java:340)\\n\\tat org.apache.hbase.thirdparty.io.netty.handler.timeout.IdleStateHandler.channelRead(IdleStateHandler.java:286)\\n\\tat org.apache.hbase.thirdparty.io.netty.channel.AbstractChannelHandlerContext.invokeChannelRead(AbstractChannelHandlerContext.java:362)\\n\\tat org.apache.hbase.thirdparty.io.netty.channel.AbstractChannelHandlerContext.invokeChannelRead(AbstractChannelHandlerContext.java:348)\\n\\tat org.apache.hbase.thirdparty.io.netty.channel.AbstractChannelHandlerContext.fireChannelRead(AbstractChannelHandlerContext.java:340)\\n\\tat org.apache.hbase.thirdparty.io.netty.channel.DefaultChannelPipeline$HeadContext.channelRead(DefaultChannelPipeline.java:1359)\\n\\tat org.apache.hbase.thirdparty.io.netty.channel.AbstractChannelHandlerContext.invokeChannelRead(AbstractChannelHandlerContext.java:362)\\n\\tat org.apache.hbase.thirdparty.io.netty.channel.AbstractChannelHandlerContext.invokeChannelRead(AbstractChannelHandlerContext.java:348)\\n\\tat org.apache.hbase.thirdparty.io.netty.channel.DefaultChannelPipeline.fireChannelRead(DefaultChannelPipeline.java:935)\\n\\tat org.apache.hbase.thirdparty.io.netty.channel.nio.AbstractNioByteChannel$NioByteUnsafe.read(AbstractNioByteChannel.java:138)\\n\\tat org.apache.hbase.thirdparty.io.netty.channel.nio.NioEventLoop.processSelectedKey(NioEventLoop.java:645)\\n\\tat org.apache.hbase.thirdparty.io.netty.channel.nio.NioEventLoop.processSelectedKeysOptimized(NioEventLoop.java:580)\\n\\tat org.apache.hbase.thirdparty.io.netty.channel.nio.NioEventLoop.processSelectedKeys(NioEventLoop.java:497)\\n\\tat org.apache.hbase.thirdparty.io.netty.channel.nio.NioEventLoop.run(NioEventLoop.java:459)\\n\\tat org.apache.hbase.thirdparty.io.netty.util.concurrent.SingleThreadEventExecutor$5.run(SingleThreadEventExecutor.java:858)\\n\\tat org.apache.hbase.thirdparty.io.netty.util.concurrent.DefaultThreadFactory$DefaultRunnableDecorator.run(DefaultThreadFactory.java:138)\\n\\t... 1 more\\n')",
     "output_type": "error",
     "traceback": [
      "\u001b[0;31m---------------------------------------------------------------------------\u001b[0m",
      "\u001b[0;31mIOError\u001b[0m                                   Traceback (most recent call last)",
      "Cell \u001b[0;32mIn [43], line 1\u001b[0m\n\u001b[0;32m----> 1\u001b[0m conn\u001b[39m.\u001b[39;49mcreate_table(table_name, { \u001b[39m'\u001b[39;49m\u001b[39mdata\u001b[39;49m\u001b[39m'\u001b[39;49m: \u001b[39mdict\u001b[39;49m() } )\n",
      "File \u001b[0;32m~/anaconda3/envs/pyspark_env/lib/python3.10/site-packages/happybase/connection.py:309\u001b[0m, in \u001b[0;36mConnection.create_table\u001b[0;34m(self, name, families)\u001b[0m\n\u001b[1;32m    305\u001b[0m     kwargs[\u001b[39m'\u001b[39m\u001b[39mname\u001b[39m\u001b[39m'\u001b[39m] \u001b[39m=\u001b[39m cf_name\n\u001b[1;32m    307\u001b[0m     column_descriptors\u001b[39m.\u001b[39mappend(ColumnDescriptor(\u001b[39m*\u001b[39m\u001b[39m*\u001b[39mkwargs))\n\u001b[0;32m--> 309\u001b[0m \u001b[39mself\u001b[39;49m\u001b[39m.\u001b[39;49mclient\u001b[39m.\u001b[39;49mcreateTable(name, column_descriptors)\n",
      "File \u001b[0;32m~/anaconda3/envs/pyspark_env/lib/python3.10/site-packages/thriftpy2/thrift.py:219\u001b[0m, in \u001b[0;36mTClient._req\u001b[0;34m(self, _api, *args, **kwargs)\u001b[0m\n\u001b[1;32m    217\u001b[0m \u001b[39m# wait result only if non-oneway\u001b[39;00m\n\u001b[1;32m    218\u001b[0m \u001b[39mif\u001b[39;00m \u001b[39mnot\u001b[39;00m \u001b[39mgetattr\u001b[39m(result_cls, \u001b[39m\"\u001b[39m\u001b[39moneway\u001b[39m\u001b[39m\"\u001b[39m):\n\u001b[0;32m--> 219\u001b[0m     \u001b[39mreturn\u001b[39;00m \u001b[39mself\u001b[39;49m\u001b[39m.\u001b[39;49m_recv(_api)\n",
      "File \u001b[0;32m~/anaconda3/envs/pyspark_env/lib/python3.10/site-packages/thriftpy2/thrift.py:251\u001b[0m, in \u001b[0;36mTClient._recv\u001b[0;34m(self, _api)\u001b[0m\n\u001b[1;32m    249\u001b[0m \u001b[39mfor\u001b[39;00m k, v \u001b[39min\u001b[39;00m result\u001b[39m.\u001b[39m\u001b[39m__dict__\u001b[39m\u001b[39m.\u001b[39mitems():\n\u001b[1;32m    250\u001b[0m     \u001b[39mif\u001b[39;00m k \u001b[39m!=\u001b[39m \u001b[39m\"\u001b[39m\u001b[39msuccess\u001b[39m\u001b[39m\"\u001b[39m \u001b[39mand\u001b[39;00m v:\n\u001b[0;32m--> 251\u001b[0m         \u001b[39mraise\u001b[39;00m v\n\u001b[1;32m    253\u001b[0m \u001b[39m# no throws & not void api\u001b[39;00m\n\u001b[1;32m    254\u001b[0m \u001b[39mif\u001b[39;00m \u001b[39mhasattr\u001b[39m(result, \u001b[39m\"\u001b[39m\u001b[39msuccess\u001b[39m\u001b[39m\"\u001b[39m):\n",
      "\u001b[0;31mIOError\u001b[0m: IOError(message=b'org.apache.hadoop.hbase.NamespaceNotFoundException: org.apache.hadoop.hbase.NamespaceNotFoundException: sample_data\\n\\tat org.apache.hadoop.hbase.master.ClusterSchemaServiceImpl.getNamespace(ClusterSchemaServiceImpl.java:119)\\n\\tat org.apache.hadoop.hbase.master.HMaster.createTable(HMaster.java:1975)\\n\\tat org.apache.hadoop.hbase.master.MasterRpcServices.createTable(MasterRpcServices.java:630)\\n\\tat org.apache.hadoop.hbase.shaded.protobuf.generated.MasterProtos$MasterService$2.callBlockingMethod(MasterProtos.java)\\n\\tat org.apache.hadoop.hbase.ipc.RpcServer.call(RpcServer.java:413)\\n\\tat org.apache.hadoop.hbase.ipc.CallRunner.run(CallRunner.java:130)\\n\\tat org.apache.hadoop.hbase.ipc.RpcExecutor$Handler.run(RpcExecutor.java:324)\\n\\tat org.apache.hadoop.hbase.ipc.RpcExecutor$Handler.run(RpcExecutor.java:304)\\n\\n\\tat sun.reflect.NativeConstructorAccessorImpl.newInstance0(Native Method)\\n\\tat sun.reflect.NativeConstructorAccessorImpl.newInstance(NativeConstructorAccessorImpl.java:62)\\n\\tat sun.reflect.DelegatingConstructorAccessorImpl.newInstance(DelegatingConstructorAccessorImpl.java:45)\\n\\tat java.lang.reflect.Constructor.newInstance(Constructor.java:423)\\n\\tat org.apache.hadoop.hbase.ipc.RemoteWithExtrasException.instantiateException(RemoteWithExtrasException.java:100)\\n\\tat org.apache.hadoop.hbase.ipc.RemoteWithExtrasException.unwrapRemoteException(RemoteWithExtrasException.java:90)\\n\\tat org.apache.hadoop.hbase.shaded.protobuf.ProtobufUtil.makeIOExceptionOfException(ProtobufUtil.java:362)\\n\\tat org.apache.hadoop.hbase.shaded.protobuf.ProtobufUtil.handleRemoteException(ProtobufUtil.java:350)\\n\\tat org.apache.hadoop.hbase.client.MasterCallable.call(MasterCallable.java:101)\\n\\tat org.apache.hadoop.hbase.client.RpcRetryingCallerImpl.callWithRetries(RpcRetryingCallerImpl.java:107)\\n\\tat org.apache.hadoop.hbase.client.HBaseAdmin.executeCallable(HBaseAdmin.java:3084)\\n\\tat org.apache.hadoop.hbase.client.HBaseAdmin.executeCallable(HBaseAdmin.java:3076)\\n\\tat org.apache.hadoop.hbase.client.HBaseAdmin.createTableAsync(HBaseAdmin.java:647)\\n\\tat org.apache.hadoop.hbase.client.HBaseAdmin.createTable(HBaseAdmin.java:620)\\n\\tat org.apache.hadoop.hbase.client.HBaseAdmin.createTable(HBaseAdmin.java:594)\\n\\tat org.apache.hadoop.hbase.thrift.ThriftServerRunner$HBaseHandler.createTable(ThriftServerRunner.java:1304)\\n\\tat sun.reflect.NativeMethodAccessorImpl.invoke0(Native Method)\\n\\tat sun.reflect.NativeMethodAccessorImpl.invoke(NativeMethodAccessorImpl.java:62)\\n\\tat sun.reflect.DelegatingMethodAccessorImpl.invoke(DelegatingMethodAccessorImpl.java:43)\\n\\tat java.lang.reflect.Method.invoke(Method.java:498)\\n\\tat org.apache.hadoop.hbase.thrift.HbaseHandlerMetricsProxy.invoke(HbaseHandlerMetricsProxy.java:66)\\n\\tat com.sun.proxy.$Proxy10.createTable(Unknown Source)\\n\\tat org.apache.hadoop.hbase.thrift.generated.Hbase$Processor$createTable.getResult(Hbase.java:3940)\\n\\tat org.apache.hadoop.hbase.thrift.generated.Hbase$Processor$createTable.getResult(Hbase.java:3924)\\n\\tat org.apache.thrift.ProcessFunction.process(ProcessFunction.java:39)\\n\\tat org.apache.thrift.TBaseProcessor.process(TBaseProcessor.java:39)\\n\\tat org.apache.hadoop.hbase.thrift.TBoundedThreadPoolServer$ClientConnnection.run(TBoundedThreadPoolServer.java:293)\\n\\tat java.util.concurrent.ThreadPoolExecutor.runWorker(ThreadPoolExecutor.java:1149)\\n\\tat java.util.concurrent.ThreadPoolExecutor$Worker.run(ThreadPoolExecutor.java:624)\\n\\tat java.lang.Thread.run(Thread.java:748)\\nCaused by: org.apache.hadoop.hbase.ipc.RemoteWithExtrasException(org.apache.hadoop.hbase.NamespaceNotFoundException): org.apache.hadoop.hbase.NamespaceNotFoundException: sample_data\\n\\tat org.apache.hadoop.hbase.master.ClusterSchemaServiceImpl.getNamespace(ClusterSchemaServiceImpl.java:119)\\n\\tat org.apache.hadoop.hbase.master.HMaster.createTable(HMaster.java:1975)\\n\\tat org.apache.hadoop.hbase.master.MasterRpcServices.createTable(MasterRpcServices.java:630)\\n\\tat org.apache.hadoop.hbase.shaded.protobuf.generated.MasterProtos$MasterService$2.callBlockingMethod(MasterProtos.java)\\n\\tat org.apache.hadoop.hbase.ipc.RpcServer.call(RpcServer.java:413)\\n\\tat org.apache.hadoop.hbase.ipc.CallRunner.run(CallRunner.java:130)\\n\\tat org.apache.hadoop.hbase.ipc.RpcExecutor$Handler.run(RpcExecutor.java:324)\\n\\tat org.apache.hadoop.hbase.ipc.RpcExecutor$Handler.run(RpcExecutor.java:304)\\n\\n\\tat org.apache.hadoop.hbase.ipc.AbstractRpcClient.onCallFinished(AbstractRpcClient.java:387)\\n\\tat org.apache.hadoop.hbase.ipc.AbstractRpcClient.access$100(AbstractRpcClient.java:95)\\n\\tat org.apache.hadoop.hbase.ipc.AbstractRpcClient$3.run(AbstractRpcClient.java:410)\\n\\tat org.apache.hadoop.hbase.ipc.AbstractRpcClient$3.run(AbstractRpcClient.java:406)\\n\\tat org.apache.hadoop.hbase.ipc.Call.callComplete(Call.java:103)\\n\\tat org.apache.hadoop.hbase.ipc.Call.setException(Call.java:118)\\n\\tat org.apache.hadoop.hbase.ipc.NettyRpcDuplexHandler.readResponse(NettyRpcDuplexHandler.java:162)\\n\\tat org.apache.hadoop.hbase.ipc.NettyRpcDuplexHandler.channelRead(NettyRpcDuplexHandler.java:192)\\n\\tat org.apache.hbase.thirdparty.io.netty.channel.AbstractChannelHandlerContext.invokeChannelRead(AbstractChannelHandlerContext.java:362)\\n\\tat org.apache.hbase.thirdparty.io.netty.channel.AbstractChannelHandlerContext.invokeChannelRead(AbstractChannelHandlerContext.java:348)\\n\\tat org.apache.hbase.thirdparty.io.netty.channel.AbstractChannelHandlerContext.fireChannelRead(AbstractChannelHandlerContext.java:340)\\n\\tat org.apache.hbase.thirdparty.io.netty.handler.codec.ByteToMessageDecoder.fireChannelRead(ByteToMessageDecoder.java:310)\\n\\tat org.apache.hbase.thirdparty.io.netty.handler.codec.ByteToMessageDecoder.channelRead(ByteToMessageDecoder.java:284)\\n\\tat org.apache.hbase.thirdparty.io.netty.channel.AbstractChannelHandlerContext.invokeChannelRead(AbstractChannelHandlerContext.java:362)\\n\\tat org.apache.hbase.thirdparty.io.netty.channel.AbstractChannelHandlerContext.invokeChannelRead(AbstractChannelHandlerContext.java:348)\\n\\tat org.apache.hbase.thirdparty.io.netty.channel.AbstractChannelHandlerContext.fireChannelRead(AbstractChannelHandlerContext.java:340)\\n\\tat org.apache.hbase.thirdparty.io.netty.handler.timeout.IdleStateHandler.channelRead(IdleStateHandler.java:286)\\n\\tat org.apache.hbase.thirdparty.io.netty.channel.AbstractChannelHandlerContext.invokeChannelRead(AbstractChannelHandlerContext.java:362)\\n\\tat org.apache.hbase.thirdparty.io.netty.channel.AbstractChannelHandlerContext.invokeChannelRead(AbstractChannelHandlerContext.java:348)\\n\\tat org.apache.hbase.thirdparty.io.netty.channel.AbstractChannelHandlerContext.fireChannelRead(AbstractChannelHandlerContext.java:340)\\n\\tat org.apache.hbase.thirdparty.io.netty.channel.DefaultChannelPipeline$HeadContext.channelRead(DefaultChannelPipeline.java:1359)\\n\\tat org.apache.hbase.thirdparty.io.netty.channel.AbstractChannelHandlerContext.invokeChannelRead(AbstractChannelHandlerContext.java:362)\\n\\tat org.apache.hbase.thirdparty.io.netty.channel.AbstractChannelHandlerContext.invokeChannelRead(AbstractChannelHandlerContext.java:348)\\n\\tat org.apache.hbase.thirdparty.io.netty.channel.DefaultChannelPipeline.fireChannelRead(DefaultChannelPipeline.java:935)\\n\\tat org.apache.hbase.thirdparty.io.netty.channel.nio.AbstractNioByteChannel$NioByteUnsafe.read(AbstractNioByteChannel.java:138)\\n\\tat org.apache.hbase.thirdparty.io.netty.channel.nio.NioEventLoop.processSelectedKey(NioEventLoop.java:645)\\n\\tat org.apache.hbase.thirdparty.io.netty.channel.nio.NioEventLoop.processSelectedKeysOptimized(NioEventLoop.java:580)\\n\\tat org.apache.hbase.thirdparty.io.netty.channel.nio.NioEventLoop.processSelectedKeys(NioEventLoop.java:497)\\n\\tat org.apache.hbase.thirdparty.io.netty.channel.nio.NioEventLoop.run(NioEventLoop.java:459)\\n\\tat org.apache.hbase.thirdparty.io.netty.util.concurrent.SingleThreadEventExecutor$5.run(SingleThreadEventExecutor.java:858)\\n\\tat org.apache.hbase.thirdparty.io.netty.util.concurrent.DefaultThreadFactory$DefaultRunnableDecorator.run(DefaultThreadFactory.java:138)\\n\\t... 1 more\\n')"
     ]
    }
   ],
   "source": [
    "conn.create_table(table_name, { 'data': dict() } )"
   ]
  },
  {
   "cell_type": "code",
   "execution_count": 35,
   "metadata": {},
   "outputs": [
    {
     "name": "stdout",
     "output_type": "stream",
     "text": [
      "Connect to HBase. table name: nutrition, batch size: 1000\n",
      "Connected to file. name: /home/yagor/Рабочий стол/mipt/lab3/notebook/nutrition_table.csv\n"
     ]
    },
    {
     "ename": "IOError",
     "evalue": "IOError(message=b'org.apache.hadoop.hbase.client.RetriesExhaustedWithDetailsException: Failed 100 actions: sample_data:nutrition: 100 times, servers with issues: null\\n\\tat org.apache.hadoop.hbase.client.BatchErrors.makeException(BatchErrors.java:54)\\n\\tat org.apache.hadoop.hbase.client.AsyncRequestFutureImpl.getErrors(AsyncRequestFutureImpl.java:1227)\\n\\tat org.apache.hadoop.hbase.client.HTable.batch(HTable.java:455)\\n\\tat org.apache.hadoop.hbase.client.HTable.put(HTable.java:553)\\n\\tat org.apache.hadoop.hbase.thrift.ThriftServerRunner$HBaseHandler.mutateRowsTs(ThriftServerRunner.java:1471)\\n\\tat org.apache.hadoop.hbase.thrift.ThriftServerRunner$HBaseHandler.mutateRows(ThriftServerRunner.java:1407)\\n\\tat sun.reflect.NativeMethodAccessorImpl.invoke0(Native Method)\\n\\tat sun.reflect.NativeMethodAccessorImpl.invoke(NativeMethodAccessorImpl.java:62)\\n\\tat sun.reflect.DelegatingMethodAccessorImpl.invoke(DelegatingMethodAccessorImpl.java:43)\\n\\tat java.lang.reflect.Method.invoke(Method.java:498)\\n\\tat org.apache.hadoop.hbase.thrift.HbaseHandlerMetricsProxy.invoke(HbaseHandlerMetricsProxy.java:66)\\n\\tat com.sun.proxy.$Proxy10.mutateRows(Unknown Source)\\n\\tat org.apache.hadoop.hbase.thrift.generated.Hbase$Processor$mutateRows.getResult(Hbase.java:4308)\\n\\tat org.apache.hadoop.hbase.thrift.generated.Hbase$Processor$mutateRows.getResult(Hbase.java:4292)\\n\\tat org.apache.thrift.ProcessFunction.process(ProcessFunction.java:39)\\n\\tat org.apache.thrift.TBaseProcessor.process(TBaseProcessor.java:39)\\n\\tat org.apache.hadoop.hbase.thrift.TBoundedThreadPoolServer$ClientConnnection.run(TBoundedThreadPoolServer.java:293)\\n\\tat java.util.concurrent.ThreadPoolExecutor.runWorker(ThreadPoolExecutor.java:1149)\\n\\tat java.util.concurrent.ThreadPoolExecutor$Worker.run(ThreadPoolExecutor.java:624)\\n\\tat java.lang.Thread.run(Thread.java:748)\\n')",
     "output_type": "error",
     "traceback": [
      "\u001b[0;31m---------------------------------------------------------------------------\u001b[0m",
      "\u001b[0;31mIOError\u001b[0m                                   Traceback (most recent call last)",
      "Cell \u001b[0;32mIn [35], line 79\u001b[0m\n\u001b[1;32m     77\u001b[0m         \u001b[39mpass\u001b[39;00m\n\u001b[1;32m     78\u001b[0m     \u001b[39melse\u001b[39;00m:\n\u001b[0;32m---> 79\u001b[0m         insert_row(batch, row)\n\u001b[1;32m     81\u001b[0m \u001b[39m# If there are any leftover rows in the batch, send them now.\u001b[39;00m\n\u001b[1;32m     82\u001b[0m batch\u001b[39m.\u001b[39msend()\n",
      "Cell \u001b[0;32mIn [35], line 53\u001b[0m, in \u001b[0;36minsert_row\u001b[0;34m(batch, row)\u001b[0m\n\u001b[1;32m     45\u001b[0m    \u001b[39m\"\"\" Insert a row into HBase.\u001b[39;00m\n\u001b[1;32m     46\u001b[0m \u001b[39mWrite the row to the batch. When the batch size is reached, rows will be\u001b[39;00m\n\u001b[1;32m     47\u001b[0m \u001b[39msent to the database.\u001b[39;00m\n\u001b[0;32m   (...)\u001b[0m\n\u001b[1;32m     50\u001b[0m \u001b[39mopened, closed, status, origin, location ]\u001b[39;00m\n\u001b[1;32m     51\u001b[0m \u001b[39m   \"\"\"\u001b[39;00m\n\u001b[1;32m     52\u001b[0m    \u001b[39m# print(type(row[0]))\u001b[39;00m\n\u001b[0;32m---> 53\u001b[0m    batch\u001b[39m.\u001b[39;49mput(row[\u001b[39m0\u001b[39;49m], { \u001b[39m\"\u001b[39;49m\u001b[39mdata:fat_100g\u001b[39;49m\u001b[39m\"\u001b[39;49m: row[\u001b[39m1\u001b[39;49m], \u001b[39m\"\u001b[39;49m\u001b[39mdata:carbohydrates_100g\u001b[39;49m\u001b[39m\"\u001b[39;49m: row[\u001b[39m2\u001b[39;49m], \u001b[39m\"\u001b[39;49m\u001b[39mdata:sugars_100g\u001b[39;49m\u001b[39m\"\u001b[39;49m: row[\u001b[39m3\u001b[39;49m],\n\u001b[1;32m     54\u001b[0m        \u001b[39m\"\u001b[39;49m\u001b[39mdata:proteins_100g\u001b[39;49m\u001b[39m\"\u001b[39;49m: row[\u001b[39m4\u001b[39;49m], \u001b[39m\"\u001b[39;49m\u001b[39mdata:salt_100g\u001b[39;49m\u001b[39m\"\u001b[39;49m: row [\u001b[39m5\u001b[39;49m], \u001b[39m\"\u001b[39;49m\u001b[39mdata:energy_100g\u001b[39;49m\u001b[39m\"\u001b[39;49m: row[\u001b[39m6\u001b[39;49m],\n\u001b[1;32m     55\u001b[0m        \u001b[39m\"\u001b[39;49m\u001b[39mdata:reconstructed_energy\u001b[39;49m\u001b[39m\"\u001b[39;49m: row[\u001b[39m7\u001b[39;49m], \u001b[39m\"\u001b[39;49m\u001b[39mdata:g_sum\u001b[39;49m\u001b[39m\"\u001b[39;49m: row[\u001b[39m8\u001b[39;49m], \u001b[39m\"\u001b[39;49m\u001b[39mdata:exceeded\u001b[39;49m\u001b[39m\"\u001b[39;49m: row[\u001b[39m9\u001b[39;49m],\n\u001b[1;32m     56\u001b[0m        \u001b[39m\"\u001b[39;49m\u001b[39mdata:product\u001b[39;49m\u001b[39m\"\u001b[39;49m: row[\u001b[39m10\u001b[39;49m]})\n",
      "File \u001b[0;32m~/anaconda3/envs/pyspark_env/lib/python3.10/site-packages/happybase/batch.py:92\u001b[0m, in \u001b[0;36mBatch.put\u001b[0;34m(self, row, data, wal)\u001b[0m\n\u001b[1;32m     90\u001b[0m \u001b[39mself\u001b[39m\u001b[39m.\u001b[39m_mutation_count \u001b[39m+\u001b[39m\u001b[39m=\u001b[39m \u001b[39mlen\u001b[39m(data)\n\u001b[1;32m     91\u001b[0m \u001b[39mif\u001b[39;00m \u001b[39mself\u001b[39m\u001b[39m.\u001b[39m_batch_size \u001b[39mand\u001b[39;00m \u001b[39mself\u001b[39m\u001b[39m.\u001b[39m_mutation_count \u001b[39m>\u001b[39m\u001b[39m=\u001b[39m \u001b[39mself\u001b[39m\u001b[39m.\u001b[39m_batch_size:\n\u001b[0;32m---> 92\u001b[0m     \u001b[39mself\u001b[39;49m\u001b[39m.\u001b[39;49msend()\n",
      "File \u001b[0;32m~/anaconda3/envs/pyspark_env/lib/python3.10/site-packages/happybase/batch.py:60\u001b[0m, in \u001b[0;36mBatch.send\u001b[0;34m(self)\u001b[0m\n\u001b[1;32m     57\u001b[0m logger\u001b[39m.\u001b[39mdebug(\u001b[39m\"\u001b[39m\u001b[39mSending batch for \u001b[39m\u001b[39m'\u001b[39m\u001b[39m%s\u001b[39;00m\u001b[39m'\u001b[39m\u001b[39m (\u001b[39m\u001b[39m%d\u001b[39;00m\u001b[39m mutations on \u001b[39m\u001b[39m%d\u001b[39;00m\u001b[39m rows)\u001b[39m\u001b[39m\"\u001b[39m,\n\u001b[1;32m     58\u001b[0m              \u001b[39mself\u001b[39m\u001b[39m.\u001b[39m_table\u001b[39m.\u001b[39mname, \u001b[39mself\u001b[39m\u001b[39m.\u001b[39m_mutation_count, \u001b[39mlen\u001b[39m(bms))\n\u001b[1;32m     59\u001b[0m \u001b[39mif\u001b[39;00m \u001b[39mself\u001b[39m\u001b[39m.\u001b[39m_timestamp \u001b[39mis\u001b[39;00m \u001b[39mNone\u001b[39;00m:\n\u001b[0;32m---> 60\u001b[0m     \u001b[39mself\u001b[39;49m\u001b[39m.\u001b[39;49m_table\u001b[39m.\u001b[39;49mconnection\u001b[39m.\u001b[39;49mclient\u001b[39m.\u001b[39;49mmutateRows(\u001b[39mself\u001b[39;49m\u001b[39m.\u001b[39;49m_table\u001b[39m.\u001b[39;49mname, bms, {})\n\u001b[1;32m     61\u001b[0m \u001b[39melse\u001b[39;00m:\n\u001b[1;32m     62\u001b[0m     \u001b[39mself\u001b[39m\u001b[39m.\u001b[39m_table\u001b[39m.\u001b[39mconnection\u001b[39m.\u001b[39mclient\u001b[39m.\u001b[39mmutateRowsTs(\n\u001b[1;32m     63\u001b[0m         \u001b[39mself\u001b[39m\u001b[39m.\u001b[39m_table\u001b[39m.\u001b[39mname, bms, \u001b[39mself\u001b[39m\u001b[39m.\u001b[39m_timestamp, {})\n",
      "File \u001b[0;32m~/anaconda3/envs/pyspark_env/lib/python3.10/site-packages/thriftpy2/thrift.py:219\u001b[0m, in \u001b[0;36mTClient._req\u001b[0;34m(self, _api, *args, **kwargs)\u001b[0m\n\u001b[1;32m    217\u001b[0m \u001b[39m# wait result only if non-oneway\u001b[39;00m\n\u001b[1;32m    218\u001b[0m \u001b[39mif\u001b[39;00m \u001b[39mnot\u001b[39;00m \u001b[39mgetattr\u001b[39m(result_cls, \u001b[39m\"\u001b[39m\u001b[39moneway\u001b[39m\u001b[39m\"\u001b[39m):\n\u001b[0;32m--> 219\u001b[0m     \u001b[39mreturn\u001b[39;00m \u001b[39mself\u001b[39;49m\u001b[39m.\u001b[39;49m_recv(_api)\n",
      "File \u001b[0;32m~/anaconda3/envs/pyspark_env/lib/python3.10/site-packages/thriftpy2/thrift.py:251\u001b[0m, in \u001b[0;36mTClient._recv\u001b[0;34m(self, _api)\u001b[0m\n\u001b[1;32m    249\u001b[0m \u001b[39mfor\u001b[39;00m k, v \u001b[39min\u001b[39;00m result\u001b[39m.\u001b[39m\u001b[39m__dict__\u001b[39m\u001b[39m.\u001b[39mitems():\n\u001b[1;32m    250\u001b[0m     \u001b[39mif\u001b[39;00m k \u001b[39m!=\u001b[39m \u001b[39m\"\u001b[39m\u001b[39msuccess\u001b[39m\u001b[39m\"\u001b[39m \u001b[39mand\u001b[39;00m v:\n\u001b[0;32m--> 251\u001b[0m         \u001b[39mraise\u001b[39;00m v\n\u001b[1;32m    253\u001b[0m \u001b[39m# no throws & not void api\u001b[39;00m\n\u001b[1;32m    254\u001b[0m \u001b[39mif\u001b[39;00m \u001b[39mhasattr\u001b[39m(result, \u001b[39m\"\u001b[39m\u001b[39msuccess\u001b[39m\u001b[39m\"\u001b[39m):\n",
      "\u001b[0;31mIOError\u001b[0m: IOError(message=b'org.apache.hadoop.hbase.client.RetriesExhaustedWithDetailsException: Failed 100 actions: sample_data:nutrition: 100 times, servers with issues: null\\n\\tat org.apache.hadoop.hbase.client.BatchErrors.makeException(BatchErrors.java:54)\\n\\tat org.apache.hadoop.hbase.client.AsyncRequestFutureImpl.getErrors(AsyncRequestFutureImpl.java:1227)\\n\\tat org.apache.hadoop.hbase.client.HTable.batch(HTable.java:455)\\n\\tat org.apache.hadoop.hbase.client.HTable.put(HTable.java:553)\\n\\tat org.apache.hadoop.hbase.thrift.ThriftServerRunner$HBaseHandler.mutateRowsTs(ThriftServerRunner.java:1471)\\n\\tat org.apache.hadoop.hbase.thrift.ThriftServerRunner$HBaseHandler.mutateRows(ThriftServerRunner.java:1407)\\n\\tat sun.reflect.NativeMethodAccessorImpl.invoke0(Native Method)\\n\\tat sun.reflect.NativeMethodAccessorImpl.invoke(NativeMethodAccessorImpl.java:62)\\n\\tat sun.reflect.DelegatingMethodAccessorImpl.invoke(DelegatingMethodAccessorImpl.java:43)\\n\\tat java.lang.reflect.Method.invoke(Method.java:498)\\n\\tat org.apache.hadoop.hbase.thrift.HbaseHandlerMetricsProxy.invoke(HbaseHandlerMetricsProxy.java:66)\\n\\tat com.sun.proxy.$Proxy10.mutateRows(Unknown Source)\\n\\tat org.apache.hadoop.hbase.thrift.generated.Hbase$Processor$mutateRows.getResult(Hbase.java:4308)\\n\\tat org.apache.hadoop.hbase.thrift.generated.Hbase$Processor$mutateRows.getResult(Hbase.java:4292)\\n\\tat org.apache.thrift.ProcessFunction.process(ProcessFunction.java:39)\\n\\tat org.apache.thrift.TBaseProcessor.process(TBaseProcessor.java:39)\\n\\tat org.apache.hadoop.hbase.thrift.TBoundedThreadPoolServer$ClientConnnection.run(TBoundedThreadPoolServer.java:293)\\n\\tat java.util.concurrent.ThreadPoolExecutor.runWorker(ThreadPoolExecutor.java:1149)\\n\\tat java.util.concurrent.ThreadPoolExecutor$Worker.run(ThreadPoolExecutor.java:624)\\n\\tat java.lang.Thread.run(Thread.java:748)\\n')"
     ]
    }
   ],
   "source": [
    "\"\"\"\n",
    "Insert data into HBase with a Python script.\n",
    "To create the table, first use the hbase shell. We are going to create a\n",
    "namespace called \"sample_data\". The table for this script is called \"rfic\",\n",
    "as we will be inserting Request for Information Cases from the City of\n",
    "Indianapolis.\n",
    "Our table will have only one column family named \"data\", and we are accepting\n",
    "all table defaults.\n",
    "Original data source\n",
    "https://data.indy.gov/dataset/Request-for-Information-Cases/ts4b-8qa9\n",
    "% hbase shell\n",
    "hbase> create_namespace \"sample_data\"\n",
    "hbase> create \"sample_data:rfic\", \"data\"\n",
    "\"\"\"\n",
    "\n",
    "import csv\n",
    "import happybase\n",
    "import time\n",
    "\n",
    "batch_size = 1000\n",
    "host = 'hbase-docker'#\"172.17.0.2\"#, 9090\n",
    "port = 9090\n",
    "file_path = \"/home/yagor/Рабочий стол/mipt/lab3/notebook/nutrition_table.csv\"\n",
    "namespace = \"sample_data\"\n",
    "row_count = 0\n",
    "start_time = time.time()\n",
    "table_name = \"nutrition\"\n",
    "\n",
    "\n",
    "def connect_to_hbase():\n",
    "    \"\"\" Connect to HBase server.\n",
    "    This will use the host, namespace, table name, and batch size as defined in\n",
    "    the global variables above.\n",
    "    \"\"\"\n",
    "    \n",
    "    conn = happybase.Connection(host = host, port=port,\n",
    "        table_prefix = namespace,\n",
    "        table_prefix_separator = \":\")\n",
    "    conn.open()\n",
    "    table = conn.table(table_name)\n",
    "    batch = table.batch(batch_size = batch_size)\n",
    "    return conn, batch\n",
    "\n",
    "\n",
    "def insert_row(batch, row):\n",
    "    \"\"\" Insert a row into HBase.\n",
    " Write the row to the batch. When the batch size is reached, rows will be\n",
    " sent to the database.\n",
    " Rows have the following schema:\n",
    " [ id, keyword, subcategory, type, township, city, zip, council_district,\n",
    " opened, closed, status, origin, location ]\n",
    "    \"\"\"\n",
    "    # print(type(row[0]))\n",
    "    batch.put(row[0], { \"data:fat_100g\": row[1], \"data:carbohydrates_100g\": row[2], \"data:sugars_100g\": row[3],\n",
    "        \"data:proteins_100g\": row[4], \"data:salt_100g\": row [5], \"data:energy_100g\": row[6],\n",
    "        \"data:reconstructed_energy\": row[7], \"data:g_sum\": row[8], \"data:exceeded\": row[9],\n",
    "        \"data:product\": row[10]})\n",
    "\n",
    "\n",
    "def read_csv():\n",
    "    csvfile = open(file_path, \"r\")\n",
    "    csvreader = csv.reader(csvfile)\n",
    "    return csvreader, csvfile\n",
    "\n",
    "\n",
    "# After everything has been defined, run the script.\n",
    "conn, batch = connect_to_hbase()\n",
    "print(f\"Connect to HBase. table name: {table_name}, batch size: {batch_size}\")\n",
    "csvreader, csvfile = read_csv()\n",
    "print(f\"Connected to file. name: {file_path}\")\n",
    "\n",
    "try:\n",
    "    # Loop through the rows. The first row contains column headers, so skip that\n",
    "    # row. Insert all remaining rows into the database.\n",
    "    for row in csvreader:\n",
    "        row_count += 1\n",
    "        if row_count == 1:\n",
    "            pass\n",
    "        else:\n",
    "            insert_row(batch, row)\n",
    "\n",
    "    # If there are any leftover rows in the batch, send them now.\n",
    "    batch.send()\n",
    "finally:\n",
    "    # No matter what happens, close the file handle.\n",
    "    csvfile.close()\n",
    "    conn.close()\n",
    "\n",
    "duration = time.time() - start_time\n",
    "print(f\"Done. row count: {row_count}, duration: {duration} s\".format(row_count, duration))"
   ]
  },
  {
   "cell_type": "code",
   "execution_count": 58,
   "metadata": {},
   "outputs": [
    {
     "ename": "ModuleNotFoundError",
     "evalue": "No module named 'thrift'",
     "output_type": "error",
     "traceback": [
      "\u001b[0;31m---------------------------------------------------------------------------\u001b[0m",
      "\u001b[0;31mModuleNotFoundError\u001b[0m                       Traceback (most recent call last)",
      "Cell \u001b[0;32mIn [58], line 1\u001b[0m\n\u001b[0;32m----> 1\u001b[0m \u001b[39mfrom\u001b[39;00m \u001b[39mthrift\u001b[39;00m \u001b[39mimport\u001b[39;00m Thrift\n\u001b[1;32m      2\u001b[0m \u001b[39mfrom\u001b[39;00m \u001b[39mthrift\u001b[39;00m\u001b[39m.\u001b[39;00m\u001b[39mtransport\u001b[39;00m \u001b[39mimport\u001b[39;00m TSocket, TTransport\n\u001b[1;32m      3\u001b[0m \u001b[39mfrom\u001b[39;00m \u001b[39mthrift\u001b[39;00m\u001b[39m.\u001b[39;00m\u001b[39mprotocol\u001b[39;00m \u001b[39mimport\u001b[39;00m TBinaryProtocol\n",
      "\u001b[0;31mModuleNotFoundError\u001b[0m: No module named 'thrift'"
     ]
    }
   ],
   "source": [
    "\n",
    "from thrift import Thrift\n",
    "from thrift.transport import TSocket, TTransport\n",
    "from thrift.protocol import TBinaryProtocol\n",
    " \n",
    " # connect \n",
    "tsocket = TSocket.TSocket(host = host, port=port)\n",
    "tsocket.setTimeout(5000)\n",
    "ttransport = TTransport.TBufferedTransport(tsocket)\n",
    "protocol = TBinaryProtocol.TBinaryProtocol(ttransport)\n",
    " \n",
    "from hbase import Hbase\n",
    " \n",
    " #  \n",
    "client = Hbase.Client(protocol)\n",
    "tsocket.open()\n",
    " \n",
    " #    \n",
    "tableName = bytes(\"namespace:table\", encoding='utf8')\n",
    "rowkey = bytes(\"rowkey\", encoding='utf8')\n",
    " \n",
    " # Get all table names\n",
    "tableNames = client.getTableNames()\n",
    "print('tableNames:',tableNames)\n",
    " \n",
    " #      \n",
    "columnDescriptors = client.getColumnDescriptors(tableName)\n",
    "print(\"columnName:\",columnDescriptors)\n",
    " \n",
    " #    \n",
    "row = client.getRow(tableName,rowkey,attributes={})\n"
   ]
  },
  {
   "cell_type": "code",
   "execution_count": 27,
   "metadata": {},
   "outputs": [],
   "source": [
    "import happybase\n",
    "\n",
    "# Подключиться к базе данных\n",
    "connection = happybase.Connection('hbase-docker', 9090)\n",
    "\n",
    "# Запросить все таблицы\n",
    "table_name_list = connection.tables()\n",
    "\n",
    "# Построить таблицу\n",
    "families = {\n",
    "\t'user_info': dict(),\n",
    "\t'history': dict()\n",
    "}\n",
    "\n",
    "connection.create_table('table_name', families)"
   ]
  },
  {
   "cell_type": "code",
   "execution_count": 34,
   "metadata": {},
   "outputs": [],
   "source": [
    "import happybase\n",
    "\n",
    "connection = happybase.Connection('hbase-docker', 9090)\n",
    "table = connection.table('nutrition')\n",
    "\n",
    "\n",
    "\n",
    "\n"
   ]
  },
  {
   "cell_type": "code",
   "execution_count": 35,
   "metadata": {},
   "outputs": [],
   "source": [
    "all_data = {}\n",
    "for key, data in table.scan():\n",
    "    all_data[key] = data "
   ]
  },
  {
   "cell_type": "code",
   "execution_count": 50,
   "metadata": {},
   "outputs": [
    {
     "data": {
      "text/plain": [
       "{b'nutrition_data:carbohydrates_100g': b'64.29',\n",
       " b'nutrition_data:energy_100g': b'2243.0',\n",
       " b'nutrition_data:exceeded': b'0',\n",
       " b'nutrition_data:fat_100g': b'28.57',\n",
       " b'nutrition_data:g_sum': b'96.43',\n",
       " b'nutrition_data:product': b'Banana Chips Sweetened (Whole)',\n",
       " b'nutrition_data:proteins_100g': b'3.57',\n",
       " b'nutrition_data:reconstructed_energy': b'2267.85',\n",
       " b'nutrition_data:salt_100g': b'0.0',\n",
       " b'nutrition_data:sugars_100g': b'14.29'}"
      ]
     },
     "execution_count": 50,
     "metadata": {},
     "output_type": "execute_result"
    }
   ],
   "source": [
    "all_data[b'1']"
   ]
  },
  {
   "cell_type": "code",
   "execution_count": 51,
   "metadata": {},
   "outputs": [
    {
     "data": {
      "text/plain": [
       "dict_keys([b'nutrition_data:carbohydrates_100g', b'nutrition_data:energy_100g', b'nutrition_data:exceeded', b'nutrition_data:fat_100g', b'nutrition_data:g_sum', b'nutrition_data:product', b'nutrition_data:proteins_100g', b'nutrition_data:reconstructed_energy', b'nutrition_data:salt_100g', b'nutrition_data:sugars_100g'])"
      ]
     },
     "execution_count": 51,
     "metadata": {},
     "output_type": "execute_result"
    }
   ],
   "source": [
    "all_data[b'1'].keys()"
   ]
  },
  {
   "cell_type": "code",
   "execution_count": 56,
   "metadata": {},
   "outputs": [],
   "source": [
    "decode_all_data = []\n",
    "funcs = {'nutrition_data:exceeded': int, 'nutrition_data:product': str}\n",
    "for key in all_data.keys():\n",
    "    decode_row_data = {}\n",
    "    for second_key, val in all_data[key].items():\n",
    "        k = second_key.decode(\"utf-8\")\n",
    "        v = val.decode(\"utf-8\")\n",
    "        if k in funcs:\n",
    "            v = funcs[k](v)\n",
    "        else:\n",
    "            v = float(v)\n",
    "        decode_row_data[k.split(':')[-1]] = v\n",
    "    decode_row_data['index'] = int(key.decode(\"utf-8\"))\n",
    "    decode_all_data.append(decode_row_data)\n",
    "\n"
   ]
  },
  {
   "cell_type": "code",
   "execution_count": 57,
   "metadata": {},
   "outputs": [
    {
     "data": {
      "text/plain": [
       "{'carbohydrates_100g': 64.29,\n",
       " 'energy_100g': 2243.0,\n",
       " 'exceeded': 0,\n",
       " 'fat_100g': 28.57,\n",
       " 'g_sum': 96.43,\n",
       " 'product': 'Banana Chips Sweetened (Whole)',\n",
       " 'proteins_100g': 3.57,\n",
       " 'reconstructed_energy': 2267.85,\n",
       " 'salt_100g': 0.0,\n",
       " 'sugars_100g': 14.29,\n",
       " 'index': 1}"
      ]
     },
     "execution_count": 57,
     "metadata": {},
     "output_type": "execute_result"
    }
   ],
   "source": [
    "decode_all_data[0]"
   ]
  },
  {
   "cell_type": "code",
   "execution_count": 58,
   "metadata": {},
   "outputs": [],
   "source": [
    "import csv\n",
    "\n",
    "keys = decode_all_data[0].keys()\n",
    "\n",
    "with open('data_from_hbase.csv', 'w', newline='') as output_file:\n",
    "    dict_writer = csv.DictWriter(output_file, keys)\n",
    "    dict_writer.writeheader()\n",
    "    dict_writer.writerows(decode_all_data)"
   ]
  },
  {
   "cell_type": "code",
   "execution_count": 65,
   "metadata": {},
   "outputs": [
    {
     "data": {
      "text/html": [
       "<div>\n",
       "<style scoped>\n",
       "    .dataframe tbody tr th:only-of-type {\n",
       "        vertical-align: middle;\n",
       "    }\n",
       "\n",
       "    .dataframe tbody tr th {\n",
       "        vertical-align: top;\n",
       "    }\n",
       "\n",
       "    .dataframe thead th {\n",
       "        text-align: right;\n",
       "    }\n",
       "</style>\n",
       "<table border=\"1\" class=\"dataframe\">\n",
       "  <thead>\n",
       "    <tr style=\"text-align: right;\">\n",
       "      <th></th>\n",
       "      <th>carbohydrates_100g</th>\n",
       "      <th>energy_100g</th>\n",
       "      <th>exceeded</th>\n",
       "      <th>fat_100g</th>\n",
       "      <th>g_sum</th>\n",
       "      <th>product</th>\n",
       "      <th>proteins_100g</th>\n",
       "      <th>reconstructed_energy</th>\n",
       "      <th>salt_100g</th>\n",
       "      <th>sugars_100g</th>\n",
       "      <th>index</th>\n",
       "    </tr>\n",
       "  </thead>\n",
       "  <tbody>\n",
       "    <tr>\n",
       "      <th>0</th>\n",
       "      <td>64.29</td>\n",
       "      <td>2243.0</td>\n",
       "      <td>0</td>\n",
       "      <td>28.57</td>\n",
       "      <td>96.43</td>\n",
       "      <td>Banana Chips Sweetened (Whole)</td>\n",
       "      <td>3.57</td>\n",
       "      <td>2267.85</td>\n",
       "      <td>0.00000</td>\n",
       "      <td>14.29</td>\n",
       "      <td>1</td>\n",
       "    </tr>\n",
       "    <tr>\n",
       "      <th>1</th>\n",
       "      <td>80.00</td>\n",
       "      <td>1255.0</td>\n",
       "      <td>0</td>\n",
       "      <td>0.00</td>\n",
       "      <td>82.50</td>\n",
       "      <td>California Seedless Raisins</td>\n",
       "      <td>2.50</td>\n",
       "      <td>1402.50</td>\n",
       "      <td>0.00000</td>\n",
       "      <td>60.00</td>\n",
       "      <td>10003</td>\n",
       "    </tr>\n",
       "    <tr>\n",
       "      <th>2</th>\n",
       "      <td>73.33</td>\n",
       "      <td>1536.0</td>\n",
       "      <td>0</td>\n",
       "      <td>8.33</td>\n",
       "      <td>84.99</td>\n",
       "      <td>Tropical Fruit Mix</td>\n",
       "      <td>3.33</td>\n",
       "      <td>1628.09</td>\n",
       "      <td>0.12700</td>\n",
       "      <td>56.67</td>\n",
       "      <td>10007</td>\n",
       "    </tr>\n",
       "    <tr>\n",
       "      <th>3</th>\n",
       "      <td>0.00</td>\n",
       "      <td>33.0</td>\n",
       "      <td>0</td>\n",
       "      <td>0.41</td>\n",
       "      <td>1.63</td>\n",
       "      <td>Beef Broth</td>\n",
       "      <td>1.22</td>\n",
       "      <td>36.73</td>\n",
       "      <td>0.88138</td>\n",
       "      <td>0.00</td>\n",
       "      <td>10008</td>\n",
       "    </tr>\n",
       "    <tr>\n",
       "      <th>4</th>\n",
       "      <td>21.43</td>\n",
       "      <td>1197.0</td>\n",
       "      <td>0</td>\n",
       "      <td>3.57</td>\n",
       "      <td>67.86</td>\n",
       "      <td>Beef Jerky</td>\n",
       "      <td>42.86</td>\n",
       "      <td>1232.16</td>\n",
       "      <td>4.35356</td>\n",
       "      <td>17.86</td>\n",
       "      <td>10009</td>\n",
       "    </tr>\n",
       "  </tbody>\n",
       "</table>\n",
       "</div>"
      ],
      "text/plain": [
       "   carbohydrates_100g  energy_100g  exceeded  fat_100g  g_sum  \\\n",
       "0               64.29       2243.0         0     28.57  96.43   \n",
       "1               80.00       1255.0         0      0.00  82.50   \n",
       "2               73.33       1536.0         0      8.33  84.99   \n",
       "3                0.00         33.0         0      0.41   1.63   \n",
       "4               21.43       1197.0         0      3.57  67.86   \n",
       "\n",
       "                          product  proteins_100g  reconstructed_energy  \\\n",
       "0  Banana Chips Sweetened (Whole)           3.57               2267.85   \n",
       "1     California Seedless Raisins           2.50               1402.50   \n",
       "2              Tropical Fruit Mix           3.33               1628.09   \n",
       "3                      Beef Broth           1.22                 36.73   \n",
       "4                      Beef Jerky          42.86               1232.16   \n",
       "\n",
       "   salt_100g  sugars_100g  index  \n",
       "0    0.00000        14.29      1  \n",
       "1    0.00000        60.00  10003  \n",
       "2    0.12700        56.67  10007  \n",
       "3    0.88138         0.00  10008  \n",
       "4    4.35356        17.86  10009  "
      ]
     },
     "execution_count": 65,
     "metadata": {},
     "output_type": "execute_result"
    }
   ],
   "source": [
    "data_from_db = pd.read_csv('/home/yagor/Рабочий стол/mipt/lab3/notebook/data_from_hbase.csv')\n",
    "data_from_db.head()"
   ]
  },
  {
   "cell_type": "code",
   "execution_count": 66,
   "metadata": {},
   "outputs": [],
   "source": [
    "data_from_db.to_csv('data_from_hbase_with_postprocess.csv')"
   ]
  },
  {
   "cell_type": "code",
   "execution_count": 55,
   "metadata": {},
   "outputs": [
    {
     "data": {
      "text/plain": [
       "dict_keys(['nutrition_data:carbohydrates_100g', 'nutrition_data:energy_100g', 'nutrition_data:exceeded', 'nutrition_data:fat_100g', 'nutrition_data:g_sum', 'nutrition_data:product', 'nutrition_data:proteins_100g', 'nutrition_data:reconstructed_energy', 'nutrition_data:salt_100g', 'nutrition_data:sugars_100g'])"
      ]
     },
     "execution_count": 55,
     "metadata": {},
     "output_type": "execute_result"
    }
   ],
   "source": [
    "decode_all_data.keys()"
   ]
  },
  {
   "cell_type": "code",
   "execution_count": 48,
   "metadata": {},
   "outputs": [
    {
     "data": {
      "text/plain": [
       "'64.29'"
      ]
     },
     "execution_count": 48,
     "metadata": {},
     "output_type": "execute_result"
    }
   ],
   "source": [
    "all_data[b'1'][b'nutrition_data:carbohydrates_100g'].decode(\"utf-8\")"
   ]
  },
  {
   "cell_type": "code",
   "execution_count": null,
   "metadata": {},
   "outputs": [],
   "source": [
    "for key, data in table.scan():\n",
    "    print(key, data)  # prints 'value1' and 'value2'"
   ]
  },
  {
   "cell_type": "markdown",
   "metadata": {},
   "source": []
  },
  {
   "cell_type": "code",
   "execution_count": 25,
   "metadata": {},
   "outputs": [],
   "source": [
    "connection.disable_table('table_name')"
   ]
  },
  {
   "cell_type": "code",
   "execution_count": 26,
   "metadata": {},
   "outputs": [],
   "source": [
    "connection.delete_table('table_name', disable=True)"
   ]
  },
  {
   "cell_type": "code",
   "execution_count": 28,
   "metadata": {},
   "outputs": [],
   "source": [
    "table = connection.table('table_name')\n",
    "\n",
    "# Получить информацию о семействе столбцов\n",
    "info_dict = table.families()\n",
    "\n",
    "\n"
   ]
  }
 ],
 "metadata": {
  "kernelspec": {
   "display_name": "Python 3.10.6 ('pyspark_env')",
   "language": "python",
   "name": "python3"
  },
  "language_info": {
   "codemirror_mode": {
    "name": "ipython",
    "version": 3
   },
   "file_extension": ".py",
   "mimetype": "text/x-python",
   "name": "python",
   "nbconvert_exporter": "python",
   "pygments_lexer": "ipython3",
   "version": "3.10.6"
  },
  "orig_nbformat": 4,
  "vscode": {
   "interpreter": {
    "hash": "3fbacc38e156424bc4feb2fa78cad4dfa544bcce4e4fb367bb488859be726019"
   }
  }
 },
 "nbformat": 4,
 "nbformat_minor": 2
}
